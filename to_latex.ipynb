{
  "cells": [
    {
      "cell_type": "markdown",
      "metadata": {
        "id": "view-in-github",
        "colab_type": "text"
      },
      "source": [
        "<a href=\"https://colab.research.google.com/github/wakasaki41/to_LaTeX/blob/main/to_latex.ipynb\" target=\"_parent\"><img src=\"https://colab.research.google.com/assets/colab-badge.svg\" alt=\"Open In Colab\"/></a>"
      ]
    },
    {
      "cell_type": "markdown",
      "metadata": {
        "id": "4ZIHQ_mogBdD"
      },
      "source": [
        "# import"
      ]
    },
    {
      "cell_type": "code",
      "execution_count": null,
      "metadata": {
        "id": "4ri-wYQYzTBv"
      },
      "outputs": [],
      "source": [
        "import cv2\n",
        "import time\n",
        "import math\n",
        "import types\n",
        "import tensorflow as tf\n",
        "import numpy as np\n",
        "import matplotlib.pyplot as plt\n",
        "import tensorflow\n",
        "from tensorflow import keras\n",
        "from PIL import Image, ImageOps\n",
        "from keras.preprocessing.image import ImageDataGenerator\n",
        "from collections import deque"
      ]
    },
    {
      "cell_type": "markdown",
      "metadata": {
        "id": "4VWlDg9QgHVM"
      },
      "source": [
        "# googledriveへのマウント"
      ]
    },
    {
      "cell_type": "code",
      "execution_count": null,
      "metadata": {
        "colab": {
          "base_uri": "https://localhost:8080/"
        },
        "id": "EFhyKfGH0FfN",
        "outputId": "2dea32b0-6c23-4a26-e7da-329c6e798784"
      },
      "outputs": [
        {
          "output_type": "stream",
          "name": "stdout",
          "text": [
            "Mounted at /content/drive\n"
          ]
        }
      ],
      "source": [
        "from google.colab import drive\n",
        "drive.mount('/content/drive')"
      ]
    },
    {
      "cell_type": "markdown",
      "metadata": {
        "id": "Cp52xVI0gUvP"
      },
      "source": [
        "# 機械学習"
      ]
    },
    {
      "cell_type": "code",
      "execution_count": null,
      "metadata": {
        "colab": {
          "base_uri": "https://localhost:8080/",
          "height": 1000
        },
        "id": "2EIOld4l56rR",
        "outputId": "41e6b46b-6504-4866-cb58-a81f3de3a7f3"
      },
      "outputs": [
        {
          "output_type": "stream",
          "name": "stdout",
          "text": [
            "77\n",
            "<PIL.Image.Image image mode=L size=100x100 at 0x7F5B7580FC90>\n",
            "<PIL.Image.Image image mode=L size=100x100 at 0x7F5B74F93750>\n",
            "<PIL.Image.Image image mode=L size=100x100 at 0x7F5B74EAB110>\n",
            "<PIL.Image.Image image mode=L size=100x100 at 0x7F5B74EAB810>\n",
            "<PIL.Image.Image image mode=L size=100x100 at 0x7F5B74EABF90>\n",
            "<PIL.Image.Image image mode=L size=100x100 at 0x7F5B74F119D0>\n",
            "<PIL.Image.Image image mode=L size=100x100 at 0x7F5B74F11A10>\n",
            "<PIL.Image.Image image mode=L size=100x100 at 0x7F5B74F11B10>\n",
            "<PIL.Image.Image image mode=L size=100x100 at 0x7F5B74EABC90>\n",
            "<PIL.Image.Image image mode=L size=100x100 at 0x7F5B74EAB510>\n",
            "<PIL.Image.Image image mode=L size=100x100 at 0x7F5B74EBBA90>\n",
            "<PIL.Image.Image image mode=L size=100x100 at 0x7F5B74F11E50>\n",
            "<PIL.Image.Image image mode=L size=100x100 at 0x7F5B74F11F10>\n",
            "<PIL.Image.Image image mode=L size=100x100 at 0x7F5B74EBBB90>\n",
            "<PIL.Image.Image image mode=L size=100x100 at 0x7F5B74EBB310>\n",
            "<PIL.Image.Image image mode=L size=100x100 at 0x7F5B74EC8910>\n",
            "<PIL.Image.Image image mode=L size=100x100 at 0x7F5B74EC86D0>\n",
            "<PIL.Image.Image image mode=L size=100x100 at 0x7F5B74ED3810>\n",
            "<PIL.Image.Image image mode=L size=100x100 at 0x7F5B74ED3AD0>\n",
            "<PIL.Image.Image image mode=L size=100x100 at 0x7F5B74EC8ED0>\n",
            "<PIL.Image.Image image mode=L size=100x100 at 0x7F5B74EC83D0>\n",
            "<PIL.Image.Image image mode=L size=100x100 at 0x7F5B74E5E250>\n",
            "<PIL.Image.Image image mode=L size=100x100 at 0x7F5B74EC88D0>\n",
            "<PIL.Image.Image image mode=L size=100x100 at 0x7F5B74EC8A10>\n",
            "<PIL.Image.Image image mode=L size=100x100 at 0x7F5B74ED35D0>\n",
            "<PIL.Image.Image image mode=L size=100x100 at 0x7F5B74ED3D10>\n",
            "<PIL.Image.Image image mode=L size=100x100 at 0x7F5B74ED3B10>\n",
            "<PIL.Image.Image image mode=L size=100x100 at 0x7F5B74E6AF90>\n",
            "<PIL.Image.Image image mode=L size=100x100 at 0x7F5B74E6A650>\n",
            "<PIL.Image.Image image mode=L size=100x100 at 0x7F5B74E5E150>\n",
            "<PIL.Image.Image image mode=L size=100x100 at 0x7F5B74E5E250>\n",
            "<PIL.Image.Image image mode=L size=100x100 at 0x7F5B74ED3B50>\n",
            "<PIL.Image.Image image mode=L size=100x100 at 0x7F5B74E6A650>\n",
            "<PIL.Image.Image image mode=L size=100x100 at 0x7F5B74E5EB10>\n",
            "<PIL.Image.Image image mode=L size=100x100 at 0x7F5B74E5EED0>\n",
            "<PIL.Image.Image image mode=L size=100x100 at 0x7F5B74E77FD0>\n",
            "<PIL.Image.Image image mode=L size=100x100 at 0x7F5B74E88290>\n",
            "<PIL.Image.Image image mode=L size=100x100 at 0x7F5B74E779D0>\n",
            "<PIL.Image.Image image mode=L size=100x100 at 0x7F5B74E77E90>\n",
            "<PIL.Image.Image image mode=L size=100x100 at 0x7F5B74E88F90>\n",
            "<PIL.Image.Image image mode=L size=100x100 at 0x7F5B74E77290>\n",
            "<PIL.Image.Image image mode=L size=100x100 at 0x7F5B74E775D0>\n",
            "<PIL.Image.Image image mode=L size=100x100 at 0x7F5B74E88710>\n",
            "<PIL.Image.Image image mode=L size=100x100 at 0x7F5B74E88F90>\n",
            "<PIL.Image.Image image mode=L size=100x100 at 0x7F5B74E88A90>\n",
            "<PIL.Image.Image image mode=L size=100x100 at 0x7F5B74E20050>\n",
            "<PIL.Image.Image image mode=L size=100x100 at 0x7F5B74E94A90>\n",
            "<PIL.Image.Image image mode=L size=100x100 at 0x7F5B74E946D0>\n",
            "<PIL.Image.Image image mode=L size=100x100 at 0x7F5B74E20DD0>\n",
            "<PIL.Image.Image image mode=L size=100x100 at 0x7F5B74E20F10>\n",
            "<PIL.Image.Image image mode=L size=100x100 at 0x7F5B74E88CD0>\n",
            "<PIL.Image.Image image mode=L size=100x100 at 0x7F5B74E94A90>\n",
            "<PIL.Image.Image image mode=L size=100x100 at 0x7F5B74E779D0>\n",
            "<PIL.Image.Image image mode=L size=100x100 at 0x7F5B74E20ED0>\n",
            "<PIL.Image.Image image mode=L size=100x100 at 0x7F5B74E2BD50>\n",
            "<PIL.Image.Image image mode=L size=100x100 at 0x7F5B74E36110>\n",
            "<PIL.Image.Image image mode=L size=100x100 at 0x7F5B74E364D0>\n",
            "<PIL.Image.Image image mode=L size=100x100 at 0x7F5B74E36B10>\n",
            "<PIL.Image.Image image mode=L size=100x100 at 0x7F5B74E36790>\n",
            "<PIL.Image.Image image mode=L size=100x100 at 0x7F5B74E36D10>\n",
            "<PIL.Image.Image image mode=L size=100x100 at 0x7F5B74E40810>\n",
            "<PIL.Image.Image image mode=L size=100x100 at 0x7F5B74E40810>\n",
            "<PIL.Image.Image image mode=L size=100x100 at 0x7F5B74E2B050>\n",
            "<PIL.Image.Image image mode=L size=100x100 at 0x7F5B74E2BD90>\n",
            "<PIL.Image.Image image mode=L size=100x100 at 0x7F5B74E2BC50>\n",
            "<PIL.Image.Image image mode=L size=100x100 at 0x7F5B74E53850>\n",
            "<PIL.Image.Image image mode=L size=100x100 at 0x7F5B74E40850>\n",
            "<PIL.Image.Image image mode=L size=100x100 at 0x7F5B74E40190>\n",
            "<PIL.Image.Image image mode=L size=100x100 at 0x7F5B74E53690>\n",
            "<PIL.Image.Image image mode=L size=100x100 at 0x7F5B74DE0190>\n",
            "<PIL.Image.Image image mode=L size=100x100 at 0x7F5B74E53210>\n",
            "<PIL.Image.Image image mode=L size=100x100 at 0x7F5B74E53210>\n",
            "<PIL.Image.Image image mode=L size=100x100 at 0x7F5B74E53F10>\n",
            "<PIL.Image.Image image mode=L size=100x100 at 0x7F5B74DE0ED0>\n",
            "<PIL.Image.Image image mode=L size=100x100 at 0x7F5B74E40B10>\n",
            "<PIL.Image.Image image mode=L size=100x100 at 0x7F5B74DE0250>\n",
            "<PIL.Image.Image image mode=L size=100x100 at 0x7F5B74DE0ED0>\n"
          ]
        },
        {
          "output_type": "display_data",
          "data": {
            "text/plain": [
              "<Figure size 432x288 with 1 Axes>"
            ],
            "image/png": "[encoded data removed]"
          },
          "metadata": {
            "needs_background": "light"
          }
        }
      ],
      "source": [
        "import tensorflow\n",
        "from tensorflow import keras\n",
        "from PIL import Image, ImageOps\n",
        "from keras.preprocessing.image import ImageDataGenerator\n",
        "IMAGESIZE=77\n",
        "MIZUMASI=500\n",
        "PART_SIZE=50\n",
        "x_train = np.arange(IMAGESIZE*MIZUMASI*PART_SIZE*PART_SIZE).reshape(IMAGESIZE*MIZUMASI,PART_SIZE,PART_SIZE)\n",
        "y_train = np.arange(IMAGESIZE*MIZUMASI).reshape(IMAGESIZE*MIZUMASI)\n",
        "'''0・・・抵抗（縦）\n",
        "   1・・・抵抗（横）\n",
        "   2・・・コンデンサ（横）\n",
        "   3・・・GND\n",
        "   4・・・接点（下）\n",
        "   5・・・接点（｜-）\n",
        "   6・・・角（⁻｜）\n",
        "   7・・・トランジスタ(NPN -|=)\n",
        "   8・・・コンデンサ（縦）\n",
        "   9・・・接点（上）\n",
        "   10・・・接点（-｜）\n",
        "   11・・・接点（+）\n",
        "   12・・・角（|⁻）\n",
        "   13・・・角（_|）\n",
        "   14・・・角（|_）\n",
        "   15・・・トランジスタ(NPN =|-)\n",
        "   16・・・トランジスタ(PNP -|=)\n",
        "   17・・・トランジスタ(PNP =|-)\n",
        "   18・・・コイル（横）\n",
        "   19・・・コイル（縦）\n",
        "   20・・・交流（横）\n",
        "   21・・・交流（縦）\n",
        "   22・・・電流計（横）\n",
        "   23・・・電流計（縦）\n",
        "   24・・・電圧計（横）\n",
        "   25・・・電圧計（縦）\n",
        "   26・・・直流電源(|≀)\n",
        "   27・・・直流電源(≀|)\n",
        "   28・・・直流電源()\n",
        "   29・・・直流電源(二)\n",
        "   '''\n",
        "anss = [0,2,5,4,0,7,1,2,4,2,3,0,5,6,0,3,6,3,3,8,0,9,12,6,8,8,5,10,\n",
        "        20,6,12,4,19,21,24,22,11,5,10,25,19,23,18,18,13,9,14,\n",
        "        18,2,6,12,23,21,24,6,12,13,1,9,14,9,\n",
        "        7,15,15,7,17,17,16,16,27,27,26,26,28,28,29,29]\n",
        "  \n",
        "print(len(anss))\n",
        "for k in range(IMAGESIZE):\n",
        "  ans=anss[k]\n",
        "  img = Image.open('drive/My Drive/datas/datas2/part{0}.png'.format(k)).convert('L')\n",
        "  plt.imshow(img)\n",
        "  print(img)\n",
        "\n",
        "\n",
        "  x = keras.preprocessing.image.img_to_array(img)\n",
        "  # (height, width, 3) -> (1, height, width, 3)\n",
        "  x = x.reshape((1,) + x.shape)\n",
        "\n",
        "  datagen = ImageDataGenerator(\n",
        "            rotation_range=3,\n",
        "            width_shift_range=0.2,\n",
        "            height_shift_range=0.2,\n",
        "            shear_range=0.4,\n",
        "            zoom_range=0.2,\n",
        "            horizontal_flip=False,\n",
        "            vertical_flip=False,\n",
        "            fill_mode='nearest')\n",
        "\n",
        "  for d, i in zip(datagen.flow(x, batch_size=1), range(MIZUMASI)):\n",
        "    filename = 'C:\\\\save\\\\' + str(i) + '.png'\n",
        "    img = keras.preprocessing.image.array_to_img(d[0], scale=True)\n",
        "    im_inv = ImageOps.invert(img)\n",
        "    im_inv.thumbnail((PART_SIZE, PART_SIZE))\n",
        "    im_inv = np.array(im_inv)\n",
        "    #plt.imshow(im_inv)\n",
        "    #print(im_inv)\n",
        "    x_train[i+k*MIZUMASI] = im_inv\n",
        "    y_train[i+k*MIZUMASI] = ans\n",
        "    #cv2.imwrite(\"train{0}.png\".format(i+k*MIZUMASI),im_inv)"
      ]
    },
    {
      "cell_type": "code",
      "execution_count": null,
      "metadata": {
        "id": "_MaPqDkgmZwr"
      },
      "outputs": [],
      "source": [
        "x_train = x_train / 255.0"
      ]
    },
    {
      "cell_type": "code",
      "execution_count": null,
      "metadata": {
        "id": "o-uD0RKwdipk"
      },
      "outputs": [],
      "source": [
        "# 入力層の設定\n",
        "model = tf.keras.models.Sequential()\n",
        "model.add(tf.keras.layers.Input((PART_SIZE, PART_SIZE)))# 入力層は28*28\n",
        "model.add(tf.keras.layers.Flatten())# 一次元配列に変換"
      ]
    },
    {
      "cell_type": "code",
      "execution_count": null,
      "metadata": {
        "id": "3lvYAQQydw9G"
      },
      "outputs": [],
      "source": [
        "# 中間層の設定\n",
        "model.add(tf.keras.layers.Dense(128))# 128個に全結合\n",
        "model.add(tf.keras.layers.Activation(tf.keras.activations.relu))# 中間層の活性化関数の設定\n",
        "model.add(tf.keras.layers.Dropout(0.2))# 20%ドロップアウトさせる"
      ]
    },
    {
      "cell_type": "code",
      "execution_count": null,
      "metadata": {
        "id": "EDX9XDBmd3GB"
      },
      "outputs": [],
      "source": [
        "model.add(tf.keras.layers.Dense(30))# 出力層の設定\n",
        "model.add(tf.keras.layers.Activation(tf.keras.activations.softmax))"
      ]
    },
    {
      "cell_type": "code",
      "execution_count": null,
      "metadata": {
        "colab": {
          "base_uri": "https://localhost:8080/"
        },
        "id": "HtfbvRt0d6-x",
        "outputId": "e4bc3530-1e35-4aa9-d5bf-fb728565763f"
      },
      "outputs": [
        {
          "output_type": "stream",
          "name": "stdout",
          "text": [
            "Epoch 1/5\n",
            "1204/1204 [==============================] - 6s 3ms/step - loss: 0.9558 - sparse_categorical_accuracy: 0.7398\n",
            "Epoch 2/5\n",
            "1204/1204 [==============================] - 3s 3ms/step - loss: 0.2530 - sparse_categorical_accuracy: 0.9334\n",
            "Epoch 3/5\n",
            "1204/1204 [==============================] - 3s 3ms/step - loss: 0.1424 - sparse_categorical_accuracy: 0.9629\n",
            "Epoch 4/5\n",
            "1204/1204 [==============================] - 3s 3ms/step - loss: 0.0997 - sparse_categorical_accuracy: 0.9741\n",
            "Epoch 5/5\n",
            "1204/1204 [==============================] - 3s 3ms/step - loss: 0.0709 - sparse_categorical_accuracy: 0.9811\n"
          ]
        },
        {
          "output_type": "execute_result",
          "data": {
            "text/plain": [
              "<keras.callbacks.History at 0x7f5af67cd150>"
            ]
          },
          "metadata": {},
          "execution_count": 8
        }
      ],
      "source": [
        "\n",
        "model.compile(\n",
        "   optimizer=tf.keras.optimizers.Adam(),\n",
        "   loss=tf.keras.losses.sparse_categorical_crossentropy,\n",
        "   metrics=[tf.keras.metrics.sparse_categorical_accuracy]\n",
        ")\n",
        "model.fit(x_train,y_train,epochs=5)"
      ]
    },
    {
      "cell_type": "markdown",
      "metadata": {
        "id": "JgIW0ajigZcG"
      },
      "source": [
        "# パラメータ"
      ]
    },
    {
      "cell_type": "code",
      "execution_count": null,
      "metadata": {
        "id": "3zpowa5bfLnV"
      },
      "outputs": [],
      "source": [
        "B=200000 #画像の面積\n",
        "Straight=0.2 #これより角度の誤差が小さければ縦・横の線とみなす\n",
        "###影除去のパラメータ###\n",
        "ksize = 30\n",
        "th=0.9\n",
        "######重複処理########\n",
        "diserr = 10.0\n",
        "therr = 0.12\n",
        "######################\n",
        "\n",
        "\n",
        "extend = 20.0;   #線を長くする長さ\n",
        "shorten= 10.0     #線を短くするくする長さ\n",
        "rhoerr = 9.0;\n",
        "minL=10         #長さがこれ以下の線は直線とみなさない\n",
        "endrmv = 8\n",
        "criclermv=0\n",
        "CMIN = 1500;    #これ以上の離れている点はコンデンサではない\n",
        "\n",
        "CorE = 500   #2辺の長さの差がこれ以上なら電源\n",
        "\n",
        "######出力########\n",
        "DIVSIZE=50.0\n",
        "YSTR = 10.0"
      ]
    },
    {
      "cell_type": "markdown",
      "metadata": {
        "id": "jHRcutqlghxC"
      },
      "source": [
        "# UnionFind"
      ]
    },
    {
      "cell_type": "code",
      "execution_count": null,
      "metadata": {
        "id": "ng5pHfjtEZXi"
      },
      "outputs": [],
      "source": [
        "from collections import defaultdict\n",
        "\n",
        "class UnionFind():\n",
        "    def __init__(self, n):\n",
        "        self.n = n\n",
        "        self.parents = [-1] * n\n",
        "\n",
        "    def find(self, x):\n",
        "        if self.parents[x] < 0:\n",
        "            return x\n",
        "        else:\n",
        "            self.parents[x] = self.find(self.parents[x])\n",
        "            return self.parents[x]\n",
        "\n",
        "    def union(self, x, y):\n",
        "        x = self.find(x)\n",
        "        y = self.find(y)\n",
        "\n",
        "        if x == y:\n",
        "            return\n",
        "\n",
        "        if self.parents[x] > self.parents[y]:\n",
        "            x, y = y, x\n",
        "\n",
        "        self.parents[x] += self.parents[y]\n",
        "        self.parents[y] = x\n",
        "\n",
        "    def size(self, x):\n",
        "        return -self.parents[self.find(x)]\n",
        "\n",
        "    def same(self, x, y):\n",
        "        return self.find(x) == self.find(y)\n",
        "\n",
        "    def members(self, x):\n",
        "        root = self.find(x)\n",
        "        return [i for i in range(self.n) if self.find(i) == root]\n",
        "\n",
        "    def roots(self):\n",
        "        return [i for i, x in enumerate(self.parents) if x < 0]\n",
        "\n",
        "    def group_count(self):\n",
        "        return len(self.roots())\n",
        "\n",
        "    def all_group_members(self):\n",
        "        group_members = defaultdict(list)\n",
        "        for member in range(self.n):\n",
        "            group_members[self.find(member)].append(member)\n",
        "        return group_members\n",
        "\n",
        "    def __str__(self):\n",
        "        return '\\n'.join(f'{r}: {m}' for r, m in self.all_group_members().items())\n"
      ]
    },
    {
      "cell_type": "markdown",
      "metadata": {
        "id": "TXxkU0UWgmkp"
      },
      "source": [
        "# 幾何学ライブラリ"
      ]
    },
    {
      "cell_type": "code",
      "execution_count": null,
      "metadata": {
        "id": "DZuQCA27AlYI"
      },
      "outputs": [],
      "source": [
        "from math import sqrt\n",
        "\n",
        "\n",
        "def cross(P0, P1, P2):\n",
        "    x0, y0 = P0; x1, y1 = P1; x2, y2 = P2\n",
        "    x1 -= x0; x2 -= x0\n",
        "    y1 -= y0; y2 -= y0\n",
        "    return x1*y2 - x2*y1\n",
        "\n",
        "\n",
        "def dot(P0, P1, P2):\n",
        "    x0, y0 = P0; x1, y1 = P1; x2, y2 = P2\n",
        "    x1 -= x0; x2 -= x0\n",
        "    y1 -= y0; y2 -= y0\n",
        "    return x1*x2 + y1*y2\n",
        "\n",
        "\n",
        "def dist2(P0, P1):\n",
        "    x0, y0 = P0; x1, y1 = P1\n",
        "    return (x1 - x0)**2 + (y1 - y0)**2\n",
        "\n",
        "\n",
        "def collision_ll(S0, S1, T0, T1):\n",
        "    return cross(S0, S1, T0)*cross(S0, S1, T1) < 0 and cross(T0, T1, S0) * cross(T0, T1, S1) < 0\n",
        "\n",
        "\n",
        "def dist_lp(S, E, P):\n",
        "    dd = dist2(S, E)\n",
        "    if 0 <= dot(S, E, P) <= dd:\n",
        "        return abs(cross(S, E, P))/sqrt(dd)\n",
        "    return sqrt(min(dist2(S, P), dist2(E, P)))\n",
        "\n",
        "\n",
        "def dist_ll(S0, S1, T0, T1):\n",
        "    if collision_ll(S0, S1, T0, T1):\n",
        "        return 0\n",
        "    return min(\n",
        "            dist_lp(S0, S1, T0),\n",
        "            dist_lp(S0, S1, T1),\n",
        "            dist_lp(T0, T1, S0),\n",
        "            dist_lp(T0, T1, S1)\n",
        "            )\n",
        "\n"
      ]
    },
    {
      "cell_type": "markdown",
      "metadata": {
        "id": "6accFEJIgq8X"
      },
      "source": [
        "# 回路図読み込み・細線化"
      ]
    },
    {
      "cell_type": "code",
      "execution_count": null,
      "metadata": {
        "colab": {
          "base_uri": "https://localhost:8080/"
        },
        "id": "xd5BpHz_0JCM",
        "outputId": "381e930b-7fab-42be-ee1f-4e9e47acab24"
      },
      "outputs": [
        {
          "output_type": "stream",
          "name": "stdout",
          "text": [
            "217 369\n",
            "[[0 0 0 ... 0 0 0]\n",
            " [0 0 0 ... 0 0 0]\n",
            " [0 0 0 ... 0 0 0]\n",
            " ...\n",
            " [0 0 0 ... 0 0 0]\n",
            " [0 0 0 ... 0 0 0]\n",
            " [0 0 0 ... 0 0 0]]\n",
            "217\n"
          ]
        },
        {
          "output_type": "execute_result",
          "data": {
            "text/plain": [
              "True"
            ]
          },
          "metadata": {},
          "execution_count": 12
        }
      ],
      "source": [
        "src = 'drive/My Drive/datas/tegaki10.jpg'\n",
        "img = cv2.imread(src)\n",
        "cv2.imwrite('org.png', img)\n",
        "H = img.shape[0]\n",
        "W = img.shape[1]\n",
        "img = cv2.resize(img , (int(W/3), int(H/3)))\n",
        "height = img.shape[0]\n",
        "width = img.shape[1]\n",
        "print(height,width)\n",
        "blur = cv2.blur(img, (ksize, ksize))\n",
        "rij = img/blur\n",
        "\n",
        "index_1 = np.where(rij >= th)\n",
        "index_0 = np.where(rij < th)\n",
        "rij[index_0] = 0\n",
        "rij[index_1] = 1\n",
        "cv2.imwrite(\"rij_image.png\", rij*255) # rijの値は0～1になるはずなので255倍\n",
        "\n",
        "\n",
        "rij=rij.astype(np.uint8)\n",
        "gray = cv2.cvtColor(rij*255,cv2.COLOR_BGR2GRAY)\n",
        "\n",
        "#gray = cv2.cvtColor(img,cv2.COLOR_BGR2GRAY)\n",
        "\n",
        "image = cv2.bitwise_not(gray)\n",
        "\n",
        "skeleton1   =   cv2.ximgproc.thinning(image, thinningType=cv2.ximgproc.THINNING_ZHANGSUEN)\n",
        "print(skeleton1)\n",
        "print(len(skeleton1))\n",
        "cv2.imwrite('skeleton.png', skeleton1)\n",
        "cv2.imwrite('skeletonW.png', 255-skeleton1)"
      ]
    },
    {
      "cell_type": "code",
      "execution_count": null,
      "metadata": {
        "colab": {
          "base_uri": "https://localhost:8080/"
        },
        "id": "pjCuW0d-qZ4O",
        "outputId": "3a29ea28-f542-4023-e67d-aa975ff3dc2d"
      },
      "outputs": [
        {
          "output_type": "stream",
          "name": "stdout",
          "text": [
            "3\n"
          ]
        },
        {
          "output_type": "execute_result",
          "data": {
            "text/plain": [
              "True"
            ]
          },
          "metadata": {},
          "execution_count": 13
        }
      ],
      "source": [
        "visited = np.full((height)*(width),-1).reshape((height, width))\n",
        "dlist=[]\n",
        "CNT=0\n",
        "noise1=4\n",
        "inf = 2000000000\n",
        "for sy in range(height):\n",
        "  for sx in range(width):\n",
        "    if visited[sy][sx] != -1 or skeleton1[sy][sx] < 230:\n",
        "      continue\n",
        "    CNT+=1\n",
        "    l=sx\n",
        "    r=sx\n",
        "    d=sy\n",
        "    u=sy\n",
        "    queue = deque([[sy, sx]])\n",
        "    visited[sy][sx] = 0\n",
        "    while queue:\n",
        "      y, x = queue.popleft()\n",
        "      u=min(u,y)\n",
        "      d=max(d,y)\n",
        "      l=min(l,x)\n",
        "      r=max(r,x)\n",
        "      for j, k in ([1, 0], [-1, 0], [0, 1], [0, -1], [1, 1], [1, -1], [-1, -1], [-1, 1]):\n",
        "        new_y, new_x = y+j, x+k\n",
        "        if new_y<0 or new_x<0 or new_y>=height or new_x>=width:\n",
        "          continue\n",
        "        if skeleton1[new_y][new_x] >= 230 and visited[new_y][new_x] == -1:\n",
        "          visited[new_y][new_x] = visited[y][x] + 1\n",
        "          queue.append([new_y, new_x])\n",
        "    if max(d-u,r-l)< noise1:\n",
        "      dlist.append([u,l,d+1,r+1])\n",
        "\n",
        "print(len(dlist))\n",
        "for i in range(len(dlist)):\n",
        "  for y in range(dlist[i][0],dlist[i][2]):\n",
        "    for x in range(dlist[i][1],dlist[i][3]):\n",
        "      skeleton1[y][x]=0\n",
        "cv2.imwrite('skeleton2W.png', 255-skeleton1)"
      ]
    },
    {
      "cell_type": "markdown",
      "metadata": {
        "id": "3ZWMDdprg8OQ"
      },
      "source": [
        "# セグメンテーション"
      ]
    },
    {
      "cell_type": "code",
      "execution_count": null,
      "metadata": {
        "colab": {
          "base_uri": "https://localhost:8080/"
        },
        "id": "I_5_jlVh344r",
        "outputId": "70ec5a2e-e5aa-4d0c-e2b2-d567f05a22fe"
      },
      "outputs": [
        {
          "output_type": "stream",
          "name": "stdout",
          "text": [
            "[[   0    0    0 ...    0    0    0]\n",
            " [   0    0    0 ...    0    0    0]\n",
            " [   0    0    0 ...    0    0    0]\n",
            " ...\n",
            " [   0    0    0 ... 1847 1847 1847]\n",
            " [   0    0    0 ... 1847 1847 1847]\n",
            " [   0    0    0 ... 1847 1847 1847]]\n"
          ]
        },
        {
          "output_type": "execute_result",
          "data": {
            "text/plain": [
              "True"
            ]
          },
          "metadata": {},
          "execution_count": 14
        }
      ],
      "source": [
        "cum = np.zeros((height+1)*(width+1),dtype = int).reshape((height+1, width+1))\n",
        "for i in range(height):\n",
        "  for j in range(width):\n",
        "    if skeleton1[i][j]==255:\n",
        "      cum[i+1][j+1]=cum[i][j+1]+cum[i+1][j]-cum[i][j]+1\n",
        "    else: \n",
        "      cum[i+1][j+1]=cum[i][j+1]+cum[i+1][j]-cum[i][j]\n",
        "\n",
        "    #print(cum[i+1][j+1],end=' ')\n",
        "  #print('\\n')\n",
        "\n",
        "print(cum)\n",
        "CS =skeleton1.copy()\n",
        "CS2 =skeleton1.copy()\n",
        "segment_size=17\n",
        "T=24\n",
        "for i in range(height-segment_size):\n",
        "  for j in range(width-segment_size):\n",
        "    den = cum[i+segment_size][j+segment_size]-cum[i+segment_size][j]-cum[i][j+segment_size]+cum[i][j]\n",
        "    #print(cum[i+segment_size][j+segment_size],cum[i+segment_size][j],cum[i][j+segment_size],cum[i][j],den)\n",
        "    #print(den)\n",
        "    if den>T:\n",
        "      for y in range(i,i+segment_size):\n",
        "        for x in range(j,j+segment_size):\n",
        "          CS[y][x]=128\n",
        "          CS2[y][x]=0\n",
        "\n",
        "  \n",
        "cv2.imwrite('CS.png',255- CS)\n",
        "cv2.imwrite('CS2.png', CS2)\n"
      ]
    },
    {
      "cell_type": "markdown",
      "metadata": {
        "id": "3_pasLKFhIa1"
      },
      "source": [
        "# 画像認識"
      ]
    },
    {
      "cell_type": "code",
      "execution_count": null,
      "metadata": {
        "colab": {
          "base_uri": "https://localhost:8080/"
        },
        "id": "msYyN-BzS8oy",
        "outputId": "8ce26c43-19bf-40b6-a428-ab88e6c667c1"
      },
      "outputs": [
        {
          "output_type": "stream",
          "name": "stdout",
          "text": [
            "18 2 12 6 21 23 24 6 12 1 13 9 9 14 [18  2 12  6 21 23 24  6 12  1 13  9  9 14]\n"
          ]
        }
      ],
      "source": [
        "\n",
        "visited = np.full((height)*(width),-1).reshape((height, width))\n",
        "plist=[]\n",
        "CNT=0\n",
        "inf = 2000000000\n",
        "for sy in range(height):\n",
        "  for sx in range(width):\n",
        "    if visited[sy][sx] != -1 or CS[sy][sx] != 128:\n",
        "      continue\n",
        "    CNT+=1\n",
        "    l=sx\n",
        "    r=sx\n",
        "    d=sy\n",
        "    u=sy\n",
        "    queue = deque([[sy, sx]])\n",
        "    visited[sy][sx] = 0\n",
        "    while queue:\n",
        "      y, x = queue.popleft()\n",
        "      u=min(u,y)\n",
        "      d=max(d,y)\n",
        "      l=min(l,x)\n",
        "      r=max(r,x)\n",
        "      for j, k in ([1, 0], [-1, 0], [0, 1], [0, -1]):\n",
        "        new_y, new_x = y+j, x+k\n",
        "        if new_y<0 or new_x<0 or new_y>=height or new_x>=width:\n",
        "          continue\n",
        "        if CS[new_y][new_x] == 128 and visited[new_y][new_x] == -1:\n",
        "          visited[new_y][new_x] = visited[y][x] + 1\n",
        "          queue.append([new_y, new_x])\n",
        "\n",
        "    plist.append([u,l,d+1,r+1])\n",
        "\n",
        "#print(CNT)\n",
        "\n",
        "#print(plist)\n",
        "CCS=CS2.copy()\n",
        "\n",
        "for i in range(len(plist)):\n",
        "  for y in range(plist[i][0],plist[i][2]):\n",
        "    for x in range(plist[i][1],plist[i][3]):\n",
        "      CCS[y][x]=0\n",
        "\n",
        "cv2.imwrite('skeleton3.png',255- CCS)\n",
        "ptype=npoints = np.arange(len(plist)).reshape(len(plist))\n",
        "for i in range(len(plist)):\n",
        "  PART = np.full(PART_SIZE*PART_SIZE,255).reshape((PART_SIZE, PART_SIZE))\n",
        "  CNT=-1\n",
        "  imgs = rij[plist[i][0] : plist[i][2] , plist[i][1] :plist[i][3] ]*255\n",
        "  #print(len(imgs),len(imgs[0]))\n",
        "  grays = cv2.cvtColor(imgs,cv2.COLOR_BGR2GRAY)\n",
        "  if len(imgs)>len(imgs[0]):\n",
        "    grays = cv2.resize(grays , ( int(PART_SIZE*len(imgs[0])/len(imgs)), PART_SIZE))\n",
        "    #print(len(grays),len(grays[0]))\n",
        "    for x in range(int((PART_SIZE-len(grays[0]))/2), PART_SIZE-1-int((PART_SIZE-len(grays[0]))/2)):\n",
        "     # print(x)\n",
        "      CNT+=1\n",
        "\n",
        "      for y in range(PART_SIZE):\n",
        "        PART[y][x]=grays[y][CNT]\n",
        "      \n",
        "\n",
        "    #grays = cv2.resize(grays , ( PART_SIZE, PART_SIZE):\n",
        "  else:\n",
        "    grays = cv2.resize(grays , (PART_SIZE, int(PART_SIZE*len(imgs)/len(imgs[0]))))\n",
        "    for y in range(int((PART_SIZE-len(grays))/2), PART_SIZE-1-int((PART_SIZE-len(grays))/2)):\n",
        "      #print(x)\n",
        "      CNT+=1\n",
        "      for x in range(PART_SIZE):\n",
        "        PART[y][x]=grays[CNT][x]\n",
        "  cv2.imwrite(\"part{0}.png\".format(i+61), PART)\n",
        "  PART = cv2.bitwise_not(PART)\n",
        "  #print(PART)\n",
        "  PART+=256\n",
        "  PART = cv2.resize(PART , (PART_SIZE, PART_SIZE))\n",
        "  #print(len(grays),len(grays[0]))\n",
        "  #pilImg = Image.fromarray(np.uint8(PART))\n",
        "  pred = model.predict(PART[np.newaxis])\n",
        "  print(np.argmax(pred),end=\" \")\n",
        "  ptype[i]=np.argmax(pred)\n",
        "  #plt.imshow(grays)\n",
        "  #plt.imshow(PART)\n",
        "  \n",
        "#print(type(PART))\n",
        "#print(type(gray))\n",
        "print(ptype)"
      ]
    },
    {
      "cell_type": "markdown",
      "metadata": {
        "id": "RyBhP1THhNsE"
      },
      "source": [
        "# 結線検出"
      ]
    },
    {
      "cell_type": "code",
      "execution_count": null,
      "metadata": {
        "colab": {
          "base_uri": "https://localhost:8080/"
        },
        "id": "Daso9oZ1UMU-",
        "outputId": "ce9a48ef-1ef1-46be-817a-a0cbcfd85096"
      },
      "outputs": [
        {
          "output_type": "stream",
          "name": "stdout",
          "text": [
            "17\n"
          ]
        },
        {
          "output_type": "execute_result",
          "data": {
            "text/plain": [
              "True"
            ]
          },
          "metadata": {},
          "execution_count": 16
        }
      ],
      "source": [
        "visited = np.full((height)*(width),-1).reshape((height, width))\n",
        "Llist=[]\n",
        "CNT=0\n",
        "for sy in range(height):\n",
        "  for sx in range(width):\n",
        "    if visited[sy][sx] != -1 or CCS[sy][sx] < 100:\n",
        "      continue\n",
        "    CNT+=1\n",
        "    l=sx\n",
        "    r=sx\n",
        "    d=sy\n",
        "    u=sy\n",
        "    queue = deque([[sy, sx]])\n",
        "    visited[sy][sx] = 0\n",
        "    while queue:\n",
        "      y, x = queue.popleft()\n",
        "      u=min(u,y)\n",
        "      d=max(d,y)\n",
        "      l=min(l,x)\n",
        "      r=max(r,x)\n",
        "      for j, k in ([1, 0], [-1, 0], [0, 1], [0, -1], [1, 1], [1, -1], [-1, -1], [-1, 1]):\n",
        "        new_y, new_x = y+j, x+k\n",
        "        if new_y<0 or new_x<0 or new_y>=height or new_x>=width:\n",
        "          continue\n",
        "        if CCS[new_y][new_x] >= 100 and visited[new_y][new_x] == -1:\n",
        "          visited[new_y][new_x] = visited[y][x] + 1\n",
        "          queue.append([new_y, new_x])\n",
        "\n",
        "    Llist.append([u,l,d+1,r+1])\n",
        "\n",
        "print(len(Llist))\n",
        "black = np.full((height)*(width),0).reshape((height, width))\n",
        "CCS2=black.copy()\n",
        "\n",
        "for i in range(len(Llist)):\n",
        "  for y in range(Llist[i][0],Llist[i][2]):\n",
        "    for x in range(Llist[i][1],Llist[i][3]):\n",
        "      CCS2[y][x]=255\n",
        "\n",
        "cv2.imwrite('CCS2.png', CCS2)"
      ]
    },
    {
      "cell_type": "code",
      "execution_count": null,
      "metadata": {
        "colab": {
          "base_uri": "https://localhost:8080/"
        },
        "id": "BMOJ2rtgaWJA",
        "outputId": "b65c4be5-8db1-4738-808c-ee0489674cf3"
      },
      "outputs": [
        {
          "output_type": "stream",
          "name": "stdout",
          "text": [
            "[[59, 287, 59, 316], [61, 47, 61, 99], [64, 199, 64, 239], [76, 332, 89, 332], [78, 31, 85, 31], [108, 215, 108, 247], [115, 111, 115, 145], [125, 263, 167, 263], [134, 94, 171, 94], [154, 331, 165, 331], [163, 34, 172, 34], [182, 217, 182, 247], [182, 280, 182, 315], [185, 125, 185, 134], [186, 116, 186, 124], [187, 108, 187, 114], [188, 53, 188, 75]]\n"
          ]
        }
      ],
      "source": [
        "lines=[]\n",
        "img2 = np.full((img.shape[0],img.shape[1], 3), 255, dtype=np.uint8)\n",
        "for i in range(len(Llist)):\n",
        "  if Llist[i][2]-Llist[i][0] > Llist[i][3]-Llist[i][1]:\n",
        "    lines.append([Llist[i][0],int((Llist[i][3]+Llist[i][1])/2),Llist[i][2],int((Llist[i][3]+Llist[i][1])/2)])\n",
        "  elif Llist[i][2]-Llist[i][0] < Llist[i][3]-Llist[i][1]:\n",
        "    lines.append([int((Llist[i][2]+Llist[i][0])/2),Llist[i][1],int((Llist[i][2]+Llist[i][0])/2),Llist[i][3]])\n",
        "for line in lines:\n",
        "    y1, x1, y2, x2 = map(int,line[:4])\n",
        "    lines_img = cv2.line(img2, (x1,y1), (x2,y2), (0,0,0), 1)\n",
        "cv2.imwrite('lines_img.png', lines_img)\n",
        "print(lines)"
      ]
    },
    {
      "cell_type": "markdown",
      "metadata": {
        "id": "sfHURHwQxrIg"
      },
      "source": [
        "# 線のずれ調整"
      ]
    },
    {
      "cell_type": "code",
      "execution_count": null,
      "metadata": {
        "colab": {
          "base_uri": "https://localhost:8080/"
        },
        "id": "DqZOL3PAxrIj",
        "outputId": "6ccf2b3b-4ed5-4a34-af58-6b0de5242a93"
      },
      "outputs": [
        {
          "output_type": "stream",
          "name": "stdout",
          "text": [
            "0 1\n",
            "0 2\n",
            "3 9\n",
            "4 10\n",
            "5 6\n",
            "11 12\n",
            "11 13\n",
            "11 14\n",
            "11 15\n",
            "11 16\n",
            "[[0, 1, 2], [3, 9], [4, 10], [5, 6], [7], [8], [11, 12, 13, 14, 15, 16]]\n"
          ]
        }
      ],
      "source": [
        "rhoerr = 16.0;\n",
        "lines_group = []\n",
        "Gseen = np.zeros(len(lines))\n",
        "cnt=0\n",
        "for i in range(len(lines)):\n",
        "  if Gseen[i]==1:\n",
        "    continue\n",
        "  lines_group.append([])\n",
        "  lines_group[cnt].append(i)\n",
        "  #print(lines_group)\n",
        "  Gseen[i]=1\n",
        "  cnt=cnt+1\n",
        "  for j in range(i+1,len(lines)):\n",
        "    if Gseen[j]==1:\n",
        "      continue\n",
        "    x1, y1, x2, y2 = map(int,lines[i][:4])\n",
        "    #print(x1 ,y1,x2,y2)\n",
        "    dx1 = x2-x1\n",
        "    dy1 = y2-y1\n",
        "    c1 = abs(-dx1*y1+dy1*x1)\n",
        "    L1 = dy1 * dy1 + dx1 * dx1;\n",
        "    ro1 = c1 / math.sqrt(L1)\n",
        "    \n",
        "    \n",
        "    th1=0.0\n",
        "    if dy1==0:\n",
        "      th1=math.pi/2.0\n",
        "    else:\n",
        "      th1=math.atan(float(dx1)/-float(dy1))\n",
        "    #print(L1)\n",
        "    #print(ro1,th1)\n",
        "    x3, y3, x4, y4 = map(int,lines[j][:4])\n",
        "    \n",
        "    dx2 = x4-x3\n",
        "    dy2 = y4-y3\n",
        "    c2 = abs(-dx2*y3+dy2*x3)\n",
        "    L2 = dy2 * dy2 + dx2 * dx2\n",
        "    ro2 = c2 / math.sqrt(L2)\n",
        "    \n",
        "    th2=0.0\n",
        "    if dy2 == 0:\n",
        "      th2=math.pi/2.0\n",
        "    else:\n",
        "      th2=math.atan(float(dx2)/-float(dy2))\n",
        "    if abs(ro1 - ro2) < rhoerr and (abs(th1 - th2) < therr or abs(th1 - th2) > math.pi - therr): \n",
        "      lines_group[cnt-1].append(j)\n",
        "      Gseen[j]=1\n",
        "      print(i,j)\n",
        "      newx3=x1+dx1*((x3-x1)*dx1+(y3-y1)*dy1)/L1\n",
        "      newy3=y1+dy1*((x3-x1)*dx1+(y3-y1)*dy1)/L1\n",
        "      newx4=x1+dx1*((x4-x1)*dx1+(y4-y1)*dy1)/L1\n",
        "      newy4=y1+dy1*((x4-x1)*dx1+(y4-y1)*dy1)/L1\n",
        "      lines[j][0]=newx3\n",
        "      lines[j][1]=newy3\n",
        "      lines[j][2]=newx4\n",
        "      lines[j][3]=newy4\n",
        "\n",
        "\n",
        "print(lines_group)"
      ]
    },
    {
      "cell_type": "code",
      "execution_count": null,
      "metadata": {
        "colab": {
          "base_uri": "https://localhost:8080/"
        },
        "id": "HTCgHhTJxrIk",
        "outputId": "386449a7-03e8-41d1-975c-991611f16511"
      },
      "outputs": [
        {
          "output_type": "execute_result",
          "data": {
            "text/plain": [
              "True"
            ]
          },
          "metadata": {},
          "execution_count": 19
        }
      ],
      "source": [
        "img5 = np.full((img.shape[0],img.shape[1], 3), 255, dtype=np.uint8)\n",
        "for line2 in lines:\n",
        "    y1, x1, y2, x2 = map(int,line2[:4])\n",
        "    lines_img = cv2.line(img5, (x1,y1), (x2,y2), (0,0,0), 1)\n",
        "cv2.imwrite('lines5_img.png', lines_img)"
      ]
    },
    {
      "cell_type": "markdown",
      "metadata": {
        "id": "bFKMgY3WhaX4"
      },
      "source": [
        "# 素子と角・交差点の振り分け"
      ]
    },
    {
      "cell_type": "code",
      "execution_count": null,
      "metadata": {
        "colab": {
          "base_uri": "https://localhost:8080/"
        },
        "id": "fb7Yd6DZbQYj",
        "outputId": "48b4cd8e-4825-457c-a299-ba53bd1b579d"
      },
      "outputs": [
        {
          "output_type": "stream",
          "name": "stdout",
          "text": [
            "[12, 6, 6, 12, 13, 9, 9, 14] [18, 2, 21, 23, 24, 1]\n"
          ]
        }
      ],
      "source": [
        "P1=[]\n",
        "P2=[]\n",
        "P1S=[]\n",
        "P2S=[]\n",
        "clist=[4,5,6,9,10,11,12,13,14]\n",
        "for i in range(len(ptype)):\n",
        "  if ptype[i] in clist:\n",
        "    P1.append(ptype[i])\n",
        "    P1S.append(plist[i])\n",
        "  else:\n",
        "    P2.append(ptype[i])\n",
        "    P2S.append(plist[i])\n",
        "print(P1,P2)"
      ]
    },
    {
      "cell_type": "markdown",
      "metadata": {
        "id": "JuwCQ4KciG1E"
      },
      "source": [
        "# 角・交差点の挿入"
      ]
    },
    {
      "cell_type": "code",
      "execution_count": null,
      "metadata": {
        "colab": {
          "base_uri": "https://localhost:8080/"
        },
        "id": "pu0MYaTthqPf",
        "outputId": "f5e043de-453d-447e-e7de-ec7986cd4a48"
      },
      "outputs": [
        {
          "output_type": "stream",
          "name": "stdout",
          "text": [
            "12\n",
            "6\n",
            "6\n",
            "12\n",
            "13\n",
            "9\n",
            "9\n",
            "14\n"
          ]
        }
      ],
      "source": [
        "lines2=lines.copy()\n",
        "extend2=3\n",
        "for i in range(len(P1)):\n",
        "  print(P1[i])\n",
        "  u, l, d, r = map(int,P1S[i][:4])\n",
        "  tmp=np.arange(4).reshape(4)\n",
        "  for y3, x3, y4, x4, now in ([u, l, u, r,0], [u, l, d, l,1], [d, l, d, r,2], [u, r, d, r,3]):\n",
        "    x3 -= extend2\n",
        "    y3 -= extend2\n",
        "    x4 += extend2\n",
        "    y4 += extend2\n",
        "    for j in range(len(lines)):\n",
        "      y1, x1, y2, x2 = map(int,lines[j][:4])\n",
        "      dx1 = x2-x1\n",
        "      dy1 = y2-y1\n",
        "\n",
        "      L1 = dy1 * dy1 + dx1 * dx1;\n",
        "\n",
        "      afdx1 = int(dx1 * extend / math.sqrt(L1))\n",
        "      afdy1 = int(dy1 * extend / math.sqrt(L1))\n",
        "\n",
        "      x1 -= afdx1\n",
        "      y1 -= afdy1\n",
        "      x2 += afdx1\n",
        "      y2 += afdy1\n",
        "\n",
        "\n",
        "      dx2 = x4-x3\n",
        "      dy2 = y4-y3\n",
        "\n",
        "      L2 = dy2 * dy2 + dx2 * dx2;\n",
        "      #print(L2)\n",
        "      afdx2 = int(dx2 * extend / math.sqrt(L2))\n",
        "      afdy2 = int(dy2 * extend / math.sqrt(L2))\n",
        "\n",
        "      '''x3 -= afdx2\n",
        "      y3 -= afdy2\n",
        "      x4 += afdx2\n",
        "      y4 += afdy2'''\n",
        "\n",
        "      tc = (x1 - x2) * (y3 - y1) + (y1 - y2) * (x1 - x3)\n",
        "      td = (x1 - x2) * (y4 - y1) + (y1 - y2) * (x1 - x4)\n",
        "      ta = (x3 - x4) * (y1 - y3) + (y3 - y4) * (x3 - x1)\n",
        "      tb = (x3 - x4) * (y2 - y3) + (y3 - y4) * (x3 - x2)\n",
        "      if tc*td < 0 and ta*tb < 0:\n",
        "          tmp[now]=j\n",
        "      if now == 3 and j==len(lines)-1:\n",
        "        \n",
        "        if P1[i]==4:\n",
        "          nh=int((lines[tmp[1]][0]+lines[tmp[3]][2])/2)\n",
        "          \n",
        "          lines2.append([nh,l,nh,r])\n",
        "          lines2.append([nh,lines[tmp[2]][1],lines[tmp[2]][2],lines[tmp[2]][3]])\n",
        "          print(tmp)\n",
        "\n",
        "        if P1[i]==5:\n",
        "          nw=int((lines[tmp[0]][1]+lines[tmp[2]][3])/2)\n",
        "          lines2.append([u,nw,d,nw])\n",
        "          lines2.append([lines[tmp[3]][0],nw,lines[tmp[3]][2],lines[tmp[3]][3]])\n",
        "          #print(tmp)\n",
        "\n",
        "        if P1[i]==6:\n",
        "          #nh=int((lines[tmp[1]][0]+lines[tmp[3]][2])/2)\n",
        "          lines2.append([lines[tmp[1]][0],l,lines[tmp[1]][2],lines[tmp[2]][3]])\n",
        "          lines2.append([lines[tmp[1]][0],lines[tmp[2]][1],d,lines[tmp[2]][3]])\n",
        "          #lines2.append([nh,lines[tmp[2]][1],lines[tmp[2]][2],lines[tmp[2]][3]])\n",
        "          #print(tmp)\n",
        "\n",
        "        if P1[i]==9:\n",
        "          nh=int((lines[tmp[1]][2]+lines[tmp[3]][0])/2)\n",
        "          lines2.append([nh,l,nh,r])\n",
        "          lines2.append([lines[tmp[0]][0],lines[tmp[0]][1],nh,lines[tmp[0]][3]])\n",
        "\n",
        "        if P1[i]==10:\n",
        "          nw=int((lines[tmp[0]][1]+lines[tmp[2]][3])/2)\n",
        "          lines2.append([u,nw,d,nw])\n",
        "          lines2.append([lines[tmp[1]][0],lines[tmp[1]][1],lines[tmp[1]][2],nw])\n",
        "\n",
        "        if P1[i]==11:\n",
        "          nh=int((lines[tmp[1]][0]+lines[tmp[3]][2])/2)\n",
        "          nw=int((lines[tmp[0]][1]+lines[tmp[2]][3])/2)\n",
        "          lines2.append([nh,l,nh,r])\n",
        "          lines2.append([u,nw,d,nw])\n",
        "\n",
        "        if P1[i]==12:\n",
        "          lines2.append([lines[tmp[3]][0],lines[tmp[2]][1],lines[tmp[3]][2],r])\n",
        "          lines2.append([lines[tmp[3]][0],lines[tmp[2]][1],d,lines[tmp[2]][3]])\n",
        "\n",
        "        if P1[i]==13:\n",
        "          lines2.append([lines[tmp[1]][0],l,lines[tmp[1]][2],lines[tmp[0]][3]])\n",
        "          lines2.append([u,lines[tmp[0]][1],lines[tmp[1]][0],lines[tmp[0]][3]])\n",
        "\n",
        "        if P1[i]==14:\n",
        "          lines2.append([lines[tmp[3]][0],lines[tmp[0]][1],lines[tmp[3]][2],r])\n",
        "          lines2.append([u,lines[tmp[0]][1],lines[tmp[3]][0],lines[tmp[0]][3]])\n",
        "        \n",
        "          \n",
        "\n",
        "              \n"
      ]
    },
    {
      "cell_type": "code",
      "execution_count": null,
      "metadata": {
        "colab": {
          "base_uri": "https://localhost:8080/"
        },
        "id": "_xig56w8wEjy",
        "outputId": "0024adc1-8b0b-4ffc-b0ef-672963d83500"
      },
      "outputs": [
        {
          "output_type": "execute_result",
          "data": {
            "text/plain": [
              "True"
            ]
          },
          "metadata": {},
          "execution_count": 22
        }
      ],
      "source": [
        "img3 = np.full((img.shape[0],img.shape[1], 3), 255, dtype=np.uint8)\n",
        "for line2 in lines2:\n",
        "    y1, x1, y2, x2 = map(int,line2[:4])\n",
        "    lines_img = cv2.line(img3, (x1,y1), (x2,y2), (0,0,0), 1)\n",
        "cv2.imwrite('lines3_img.png', lines_img)"
      ]
    },
    {
      "cell_type": "markdown",
      "metadata": {
        "id": "1-iLdnJsiXOP"
      },
      "source": [
        "# 重複処理"
      ]
    },
    {
      "cell_type": "code",
      "execution_count": null,
      "metadata": {
        "id": "NDD-qiubBO3Y"
      },
      "outputs": [],
      "source": [
        "\n",
        "######重複処理########\n",
        "diserr = 8.0\n",
        "therr = 0.06\n",
        "uf = UnionFind(len(lines2))\n",
        "for i in range(len(lines2)):\n",
        "    x1, y1, x2, y2 = map(int,lines2[i][:4])\n",
        "    for j in range(i+1,len(lines2)):\n",
        "      x3, y3, x4, y4 = map(int,lines2[j][:4])\n",
        "      dxi = x2-x1\n",
        "      dyi = y2-y1\n",
        "      thi=0\n",
        "      if dyi==0:\n",
        "        thi=math.pi/2.0\n",
        "      else:\n",
        "        thi=math.atan(float(dxi)/-float(dyi))\n",
        "\n",
        "      dxj = x4-x3\n",
        "      dyj = y4-y3\n",
        "      thj=0\n",
        "      if dyj==0:\n",
        "        thj=math.pi/2.0\n",
        "      else:\n",
        "        thj=math.atan(float(dxj)/-float(dyj))\n",
        "      \n",
        "      dis = dist_ll((x1,y1),(x2,y2),(x3,y3),(x4,y4))\n",
        "\n",
        "      if dis < diserr and (abs(thi - thj) < therr or abs(thi - thj) > math.pi - therr):  \n",
        "        uf.union(i,j)\n",
        "\n",
        "\n"
      ]
    },
    {
      "cell_type": "code",
      "execution_count": null,
      "metadata": {
        "colab": {
          "base_uri": "https://localhost:8080/"
        },
        "id": "hOtHaQ22H6W0",
        "outputId": "a1533650-41bf-4203-e702-83c6e4ea5756"
      },
      "outputs": [
        {
          "output_type": "stream",
          "name": "stdout",
          "text": [
            "[[0, 19], [1, 17], [2], [3, 20], [4, 18], [5, 21], [6, 23], [7, 22, 28], [8, 24, 30], [9, 26], [10, 32], [11, 12, 25, 27], [13, 14, 15, 16, 29, 31]]\n",
            "[[ 59 332  59 287]\n",
            " [ 59  99  59  31]\n",
            " [ 59 239  59 199]\n",
            " [ 59 332  89 332]\n",
            " [ 59  31  85  31]\n",
            " [108 263 108 215]\n",
            " [108 145 108  94]\n",
            " [108 263 182 263]\n",
            " [108  94 182  94]\n",
            " [154 332 182 332]\n",
            " [163  31 182  31]\n",
            " [182 332 182 217]\n",
            " [182 134 182  31]]\n"
          ]
        }
      ],
      "source": [
        "uflist=list(uf.all_group_members().values())\n",
        "print(uflist)\n",
        "rlines = np.arange(len(uflist)*4).reshape((len(uflist), 4))\n",
        "#rflag = np.arange(len(uflist)).reshape((len(uflist)))\n",
        "for i in range(len(uflist)):\n",
        "  rflag=0\n",
        "  for j in range(len(uflist[i])):\n",
        "    x1, y1, x2, y2 = map(int,lines2[uflist[i][j]][:4])\n",
        "    if j==0:\n",
        "      \n",
        "      if (x2-x1)*(y2-y1)>0:\n",
        "        rflag=1\n",
        "        rlines[i][0]=min(x2,x1)\n",
        "        rlines[i][1]=min(y2,y1)\n",
        "        rlines[i][2]=max(x2,x1)\n",
        "        rlines[i][3]=max(y2,y1)\n",
        "      else :\n",
        "        rlines[i][0]=min(x2,x1)\n",
        "        rlines[i][1]=max(y2,y1)\n",
        "        rlines[i][2]=max(x2,x1)\n",
        "        rlines[i][3]=min(y2,y1)\n",
        "\n",
        "    else :\n",
        "      if rflag==1:\n",
        "        rlines[i][0]=min(x2,x1,rlines[i][0])\n",
        "        rlines[i][1]=min(y2,y1,rlines[i][1])\n",
        "        rlines[i][2]=max(x2,x1,rlines[i][2])\n",
        "        rlines[i][3]=max(y2,y1,rlines[i][3])\n",
        "      else:\n",
        "        rlines[i][0]=min(x2,x1,rlines[i][0])\n",
        "        rlines[i][1]=max(y2,y1,rlines[i][1])\n",
        "        rlines[i][2]=max(x2,x1,rlines[i][2])\n",
        "        rlines[i][3]=min(y2,y1,rlines[i][3])\n",
        "\n",
        "print(rlines)"
      ]
    },
    {
      "cell_type": "markdown",
      "metadata": {
        "id": "rKm8tRFwf95q"
      },
      "source": [
        "# 線の傾き調整"
      ]
    },
    {
      "cell_type": "code",
      "execution_count": null,
      "metadata": {
        "id": "D8_OEmn7Y3hF"
      },
      "outputs": [],
      "source": [
        "Straight=0.2 #これより角度の誤差が小さければ縦・横の線とみなす\n",
        "for i in range(len(rlines)):\n",
        "  x1, y1, x2, y2 = map(int,rlines[i][:4])\n",
        "  dxi = x2-x1\n",
        "  dyi = y2-y1\n",
        "  thi=0\n",
        "  if dyi==0:\n",
        "    thi=math.pi/2.0\n",
        "  else:\n",
        "    thi=math.atan(float(dxi)/float(dyi))\n",
        "\n",
        "  if abs(thi) < Straight:\n",
        "    rlines[i][0] = (x1+x2)/2\n",
        "    rlines[i][2] = (x1+x2)/2\n",
        "  elif abs(math.pi/2.0-thi)<Straight or abs(math.pi/2.0+thi)<Straight:\n",
        "    rlines[i][1] = (y1+y2)/2\n",
        "    rlines[i][3] = (y1+y2)/2\n"
      ]
    },
    {
      "cell_type": "code",
      "execution_count": null,
      "metadata": {
        "colab": {
          "base_uri": "https://localhost:8080/"
        },
        "id": "hqpDFKYej23l",
        "outputId": "1d5ad757-7aad-4536-9345-3fefa26f8709"
      },
      "outputs": [
        {
          "output_type": "execute_result",
          "data": {
            "text/plain": [
              "True"
            ]
          },
          "metadata": {},
          "execution_count": 26
        }
      ],
      "source": [
        "img4 = np.full((img.shape[0],img.shape[1], 3), 255, dtype=np.uint8)\n",
        "for line2 in rlines:\n",
        "    y1, x1, y2, x2 = map(int,line2[:4])\n",
        "    lines_img = cv2.line(img4, (x1,y1), (x2,y2), (0,0,0), 1)\n",
        "cv2.imwrite('lines4_img.png', lines_img)"
      ]
    },
    {
      "cell_type": "markdown",
      "metadata": {
        "id": "9gThwcbzixII"
      },
      "source": [
        "# 線のずれ調整"
      ]
    },
    {
      "cell_type": "code",
      "execution_count": null,
      "metadata": {
        "colab": {
          "base_uri": "https://localhost:8080/",
          "height": 105
        },
        "id": "T4gbUetSbimy",
        "outputId": "d6cfbbd6-bc45-45a4-c4a9-07bf8c12bbb5"
      },
      "outputs": [
        {
          "output_type": "execute_result",
          "data": {
            "text/plain": [
              "'rhoerr = 16.0;\\nlines_group = []\\nGseen = np.zeros(len(rlines))\\ncnt=0\\nfor i in range(len(rlines)):\\n  if Gseen[i]==1:\\n    continue\\n  lines_group.append([])\\n  lines_group[cnt].append(i)\\n  #print(lines_group)\\n  Gseen[i]=1\\n  cnt=cnt+1\\n  for j in range(i+1,len(rlines)):\\n    if Gseen[j]==1:\\n      continue\\n    x1, y1, x2, y2 = map(int,rlines[i][:4])\\n    #print(x1 ,y1,x2,y2)\\n    dx1 = x2-x1\\n    dy1 = y2-y1\\n    c1 = abs(-dx1*y1+dy1*x1)\\n    L1 = dy1 * dy1 + dx1 * dx1;\\n    ro1 = c1 / math.sqrt(L1)\\n    \\n    \\n    th1=0.0\\n    if dy1==0:\\n      th1=math.pi/2.0\\n    else:\\n      th1=math.atan(float(dx1)/-float(dy1))\\n    #print(L1)\\n    #print(ro1,th1)\\n    x3, y3, x4, y4 = map(int,rlines[j][:4])\\n    \\n    dx2 = x4-x3\\n    dy2 = y4-y3\\n    c2 = abs(-dx2*y3+dy2*x3)\\n    L2 = dy2 * dy2 + dx2 * dx2\\n    ro2 = c2 / math.sqrt(L2)\\n    \\n    th2=0.0\\n    if dy2 == 0:\\n      th2=math.pi/2.0\\n    else:\\n      th2=math.atan(float(dx2)/-float(dy2))\\n    if abs(ro1 - ro2) < rhoerr and (abs(th1 - th2) < therr or abs(th1 - th2) > math.pi - therr): \\n      lines_group[cnt-1].append(j)\\n      Gseen[j]=1\\n      print(i,j)\\n      newx3=x1+dx1*((x3-x1)*dx1+(y3-y1)*dy1)/L1\\n      newy3=y1+dy1*((x3-x1)*dx1+(y3-y1)*dy1)/L1\\n      newx4=x1+dx1*((x4-x1)*dx1+(y4-y1)*dy1)/L1\\n      newy4=y1+dy1*((x4-x1)*dx1+(y4-y1)*dy1)/L1\\n      rlines[j][0]=newx3\\n      rlines[j][1]=newy3\\n      rlines[j][2]=newx4\\n      rlines[j][3]=newy4\\n\\n\\nprint(lines_group)'"
            ],
            "application/vnd.google.colaboratory.intrinsic+json": {
              "type": "string"
            }
          },
          "metadata": {},
          "execution_count": 27
        }
      ],
      "source": [
        "'''rhoerr = 16.0;\n",
        "lines_group = []\n",
        "Gseen = np.zeros(len(rlines))\n",
        "cnt=0\n",
        "for i in range(len(rlines)):\n",
        "  if Gseen[i]==1:\n",
        "    continue\n",
        "  lines_group.append([])\n",
        "  lines_group[cnt].append(i)\n",
        "  #print(lines_group)\n",
        "  Gseen[i]=1\n",
        "  cnt=cnt+1\n",
        "  for j in range(i+1,len(rlines)):\n",
        "    if Gseen[j]==1:\n",
        "      continue\n",
        "    x1, y1, x2, y2 = map(int,rlines[i][:4])\n",
        "    #print(x1 ,y1,x2,y2)\n",
        "    dx1 = x2-x1\n",
        "    dy1 = y2-y1\n",
        "    c1 = abs(-dx1*y1+dy1*x1)\n",
        "    L1 = dy1 * dy1 + dx1 * dx1;\n",
        "    ro1 = c1 / math.sqrt(L1)\n",
        "    \n",
        "    \n",
        "    th1=0.0\n",
        "    if dy1==0:\n",
        "      th1=math.pi/2.0\n",
        "    else:\n",
        "      th1=math.atan(float(dx1)/-float(dy1))\n",
        "    #print(L1)\n",
        "    #print(ro1,th1)\n",
        "    x3, y3, x4, y4 = map(int,rlines[j][:4])\n",
        "    \n",
        "    dx2 = x4-x3\n",
        "    dy2 = y4-y3\n",
        "    c2 = abs(-dx2*y3+dy2*x3)\n",
        "    L2 = dy2 * dy2 + dx2 * dx2\n",
        "    ro2 = c2 / math.sqrt(L2)\n",
        "    \n",
        "    th2=0.0\n",
        "    if dy2 == 0:\n",
        "      th2=math.pi/2.0\n",
        "    else:\n",
        "      th2=math.atan(float(dx2)/-float(dy2))\n",
        "    if abs(ro1 - ro2) < rhoerr and (abs(th1 - th2) < therr or abs(th1 - th2) > math.pi - therr): \n",
        "      lines_group[cnt-1].append(j)\n",
        "      Gseen[j]=1\n",
        "      print(i,j)\n",
        "      newx3=x1+dx1*((x3-x1)*dx1+(y3-y1)*dy1)/L1\n",
        "      newy3=y1+dy1*((x3-x1)*dx1+(y3-y1)*dy1)/L1\n",
        "      newx4=x1+dx1*((x4-x1)*dx1+(y4-y1)*dy1)/L1\n",
        "      newy4=y1+dy1*((x4-x1)*dx1+(y4-y1)*dy1)/L1\n",
        "      rlines[j][0]=newx3\n",
        "      rlines[j][1]=newy3\n",
        "      rlines[j][2]=newx4\n",
        "      rlines[j][3]=newy4\n",
        "\n",
        "\n",
        "print(lines_group)'''"
      ]
    },
    {
      "cell_type": "code",
      "execution_count": null,
      "metadata": {
        "colab": {
          "base_uri": "https://localhost:8080/",
          "height": 53
        },
        "id": "a939yX1mkyMh",
        "outputId": "2ae81fef-f70a-4808-bd25-15688888c845"
      },
      "outputs": [
        {
          "output_type": "execute_result",
          "data": {
            "text/plain": [
              "\"img5 = np.full((img.shape[0],img.shape[1], 3), 255, dtype=np.uint8)\\nfor line2 in rlines:\\n    y1, x1, y2, x2 = map(int,line2[:4])\\n    lines_img = cv2.line(img5, (x1,y1), (x2,y2), (0,0,0), 1)\\ncv2.imwrite('lines5_img.png', lines_img)\""
            ],
            "application/vnd.google.colaboratory.intrinsic+json": {
              "type": "string"
            }
          },
          "metadata": {},
          "execution_count": 28
        }
      ],
      "source": [
        "'''img5 = np.full((img.shape[0],img.shape[1], 3), 255, dtype=np.uint8)\n",
        "for line2 in rlines:\n",
        "    y1, x1, y2, x2 = map(int,line2[:4])\n",
        "    lines_img = cv2.line(img5, (x1,y1), (x2,y2), (0,0,0), 1)\n",
        "cv2.imwrite('lines5_img.png', lines_img)'''"
      ]
    },
    {
      "cell_type": "markdown",
      "metadata": {
        "id": "lKGfKN9Ii3gA"
      },
      "source": [
        "# 線の接続調整"
      ]
    },
    {
      "cell_type": "code",
      "execution_count": null,
      "metadata": {
        "colab": {
          "base_uri": "https://localhost:8080/"
        },
        "id": "t6vG_eNVTGF9",
        "outputId": "ceedf1b2-143b-4a94-ca21-5af02ed1d137"
      },
      "outputs": [
        {
          "output_type": "execute_result",
          "data": {
            "text/plain": [
              "\"points = np.arange(0).reshape((0, 4))\\nfor i in range(len(rlines)):\\n  x1, y1, x2, y2 = map(float,rlines[i][:4])\\n  dx1 = x2-x1\\n  dy1 = y2-y1\\n\\n  L1 = dy1 * dy1 + dx1 * dx1;\\n\\n  afdx1 = int(dx1 * extend / math.sqrt(L1))\\n  afdy1 = int(dy1 * extend / math.sqrt(L1))\\n  \\n  x1 -= afdx1\\n  y1 -= afdy1\\n  x2 += afdx1\\n  y2 += afdy1\\n\\n  for j in range(i+1,len(rlines)):\\n    x3, y3, x4, y4 = map(float,rlines[j][:4])\\n    dx2 = x4-x3\\n    dy2 = y4-y3\\n\\n    L2 = dy2 * dy2 + dx2 * dx2;\\n\\n    afdx2 = int(dx2 * extend / math.sqrt(L2))\\n    afdy2 = int(dy2 * extend / math.sqrt(L2))\\n\\n    x3 -= afdx2\\n    y3 -= afdy2\\n    x4 += afdx2\\n    y4 += afdy2\\n\\n    tc = (x1 - x2) * (y3 - y1) + (y1 - y2) * (x1 - x3)\\n    td = (x1 - x2) * (y4 - y1) + (y1 - y2) * (x1 - x4)\\n    ta = (x3 - x4) * (y1 - y3) + (y3 - y4) * (x3 - x1)\\n    tb = (x3 - x4) * (y2 - y3) + (y3 - y4) * (x3 - x2)\\n    if tc*td < 0 and ta*tb < 0:\\n      tmp = dx1*dy2-dx2*dy1\\n      c1=-dx1*y1+dy1*x1\\n      c2=-dx2*y3+dy2*x3\\n      if tmp!=0:\\n        \\n        x = -int(float(-dx1 * c2 +dx2 * c1) / float(tmp))\\n        y = -int(float(dy2 * c1 - dy1 * c2) / float(tmp))\\n        tmp2 = np.arange(4).reshape(4)\\n        tmp2[0],tmp2[1],tmp2[2],tmp2[3]=i,j,x,y\\n        points=np.insert(points,0,tmp2,axis=0)\\n        #print(x,y)\\n        #point_img = cv2.circle(img, (x,y),3, (255,0,0),-1)\\n#cv2.imwrite('lined_hoge5.png', point_img)\\nprint(points)\""
            ],
            "application/vnd.google.colaboratory.intrinsic+json": {
              "type": "string"
            }
          },
          "metadata": {},
          "execution_count": 29
        }
      ],
      "source": [
        "'''points = np.arange(0).reshape((0, 4))\n",
        "for i in range(len(rlines)):\n",
        "  x1, y1, x2, y2 = map(float,rlines[i][:4])\n",
        "  dx1 = x2-x1\n",
        "  dy1 = y2-y1\n",
        "\n",
        "  L1 = dy1 * dy1 + dx1 * dx1;\n",
        "\n",
        "  afdx1 = int(dx1 * extend / math.sqrt(L1))\n",
        "  afdy1 = int(dy1 * extend / math.sqrt(L1))\n",
        "  \n",
        "  x1 -= afdx1\n",
        "  y1 -= afdy1\n",
        "  x2 += afdx1\n",
        "  y2 += afdy1\n",
        "\n",
        "  for j in range(i+1,len(rlines)):\n",
        "    x3, y3, x4, y4 = map(float,rlines[j][:4])\n",
        "    dx2 = x4-x3\n",
        "    dy2 = y4-y3\n",
        "\n",
        "    L2 = dy2 * dy2 + dx2 * dx2;\n",
        "\n",
        "    afdx2 = int(dx2 * extend / math.sqrt(L2))\n",
        "    afdy2 = int(dy2 * extend / math.sqrt(L2))\n",
        "\n",
        "    x3 -= afdx2\n",
        "    y3 -= afdy2\n",
        "    x4 += afdx2\n",
        "    y4 += afdy2\n",
        "\n",
        "    tc = (x1 - x2) * (y3 - y1) + (y1 - y2) * (x1 - x3)\n",
        "    td = (x1 - x2) * (y4 - y1) + (y1 - y2) * (x1 - x4)\n",
        "    ta = (x3 - x4) * (y1 - y3) + (y3 - y4) * (x3 - x1)\n",
        "    tb = (x3 - x4) * (y2 - y3) + (y3 - y4) * (x3 - x2)\n",
        "    if tc*td < 0 and ta*tb < 0:\n",
        "      tmp = dx1*dy2-dx2*dy1\n",
        "      c1=-dx1*y1+dy1*x1\n",
        "      c2=-dx2*y3+dy2*x3\n",
        "      if tmp!=0:\n",
        "        \n",
        "        x = -int(float(-dx1 * c2 +dx2 * c1) / float(tmp))\n",
        "        y = -int(float(dy2 * c1 - dy1 * c2) / float(tmp))\n",
        "        tmp2 = np.arange(4).reshape(4)\n",
        "        tmp2[0],tmp2[1],tmp2[2],tmp2[3]=i,j,x,y\n",
        "        points=np.insert(points,0,tmp2,axis=0)\n",
        "        #print(x,y)\n",
        "        #point_img = cv2.circle(img, (x,y),3, (255,0,0),-1)\n",
        "#cv2.imwrite('lined_hoge5.png', point_img)\n",
        "print(points)'''"
      ]
    },
    {
      "cell_type": "code",
      "execution_count": null,
      "metadata": {
        "colab": {
          "base_uri": "https://localhost:8080/"
        },
        "id": "3NKBPakuYN5_",
        "outputId": "228909e7-e3a5-4ccf-dd19-c637882fc735"
      },
      "outputs": [
        {
          "output_type": "execute_result",
          "data": {
            "text/plain": [
              "\"for i in range(len(rlines)):\\n  x1, y1, x2, y2 = map(int,rlines[i][:4])\\n\\n  lines_img3 = cv2.line(img3, (x1,y1), (x2,y2), (0,0,255),2)\\n    #lines_img3 = cv2.line(img, (98,43), (98,66), (0,0,255), 1)\\ncv2.imwrite('lined_hoge3.png', lines_img3)\""
            ],
            "application/vnd.google.colaboratory.intrinsic+json": {
              "type": "string"
            }
          },
          "metadata": {},
          "execution_count": 30
        }
      ],
      "source": [
        "'''for i in range(len(rlines)):\n",
        "  x1, y1, x2, y2 = map(int,rlines[i][:4])\n",
        "\n",
        "  lines_img3 = cv2.line(img3, (x1,y1), (x2,y2), (0,0,255),2)\n",
        "    #lines_img3 = cv2.line(img, (98,43), (98,66), (0,0,255), 1)\n",
        "cv2.imwrite('lined_hoge3.png', lines_img3)'''"
      ]
    },
    {
      "cell_type": "code",
      "execution_count": null,
      "metadata": {
        "colab": {
          "base_uri": "https://localhost:8080/"
        },
        "id": "M1DkP-b7ki3i",
        "outputId": "39fc359a-cd40-484a-fd08-7726c1a09de9"
      },
      "outputs": [
        {
          "output_type": "execute_result",
          "data": {
            "text/plain": [
              "'pointsA = np.arange(0).reshape((0, 4))\\npointsB = np.arange(0).reshape((0, 4))\\npointsC = np.arange(0).reshape((0, 4))\\n\\nfor i in range(len(points)):\\n  l1, l2, x, y = map(int,points[i][:4])\\n  x1, y1, x2, y2 = map(float,rlines[l1][:4])\\n  x3, y3, x4, y4 = map(float,rlines[l2][:4])\\n  dx1 = x2-x1\\n  dy1 = y2-y1\\n\\n  L1 = dy1 * dy1 + dx1 * dx1;\\n  if L1<minL:\\n    continue\\n  afdx1 = int(dx1 * extend / math.sqrt(L1))\\n  afdy1 = int(dy1 * extend / math.sqrt(L1))\\n  \\n  x1 -= afdx1\\n  y1 -= afdy1\\n  x2 += afdx1\\n  y2 += afdy1\\n\\n  dx2 = x4-x3\\n  dy2 = y4-y3\\n\\n  L2 = dy2 * dy2 + dx2 * dx2;\\n  if L2<minL:\\n    continue\\n  afdx2 = int(dx2 * shorten / math.sqrt(L2))\\n  afdy2 = int(dy2 * shorten / math.sqrt(L2))\\n\\n  x3 += afdx2\\n  y3 += afdy2\\n  x4 -= afdx2\\n  y4 -= afdy2\\n\\n  tc = (x1 - x2) * (y3 - y1) + (y1 - y2) * (x1 - x3)\\n  td = (x1 - x2) * (y4 - y1) + (y1 - y2) * (x1 - x4)\\n  ta = (x3 - x4) * (y1 - y3) + (y3 - y4) * (x3 - x1)\\n  tb = (x3 - x4) * (y2 - y3) + (y3 - y4) * (x3 - x2)\\n  flag1=0\\n  if tc*td < 0 and ta*tb < 0:\\n    flag1=1;\\n\\n\\n  x1, y1, x2, y2 = map(float,rlines[l1][:4])\\n  x3, y3, x4, y4 = map(float,rlines[l2][:4])\\n  dx1 = x2-x1\\n  dy1 = y2-y1\\n\\n  L1 = dy1 * dy1 + dx1 * dx1;\\n\\n  afdx1 = int(dx1 * shorten / math.sqrt(L1))\\n  afdy1 = int(dy1 * shorten / math.sqrt(L1))\\n  \\n  x1 += afdx1\\n  y1 += afdy1\\n  x2 -= afdx1\\n  y2 -= afdy1\\n\\n  dx2 = x4-x3\\n  dy2 = y4-y3\\n\\n  L2 = dy2 * dy2 + dx2 * dx2;\\n\\n  afdx2 = int(dx2 * extend / math.sqrt(L2))\\n  afdy2 = int(dy2 * extend / math.sqrt(L2))\\n\\n  x3 -= afdx2\\n  y3 -= afdy2\\n  x4 += afdx2\\n  y4 += afdy2\\n\\n  tc = (x1 - x2) * (y3 - y1) + (y1 - y2) * (x1 - x3)\\n  td = (x1 - x2) * (y4 - y1) + (y1 - y2) * (x1 - x4)\\n  ta = (x3 - x4) * (y1 - y3) + (y3 - y4) * (x3 - x1)\\n  tb = (x3 - x4) * (y2 - y3) + (y3 - y4) * (x3 - x2)\\n\\n  flag2=0\\n  if tc*td < 0 and ta*tb < 0:\\n    flag2=1;\\n  \\n  #print(flag1,flag2)\\n  if flag1==1 and flag2==1:\\n    continue\\n  elif flag1==1:\\n    L1 = (x-x1)*(x-x1)+(y-y1)*(y-y1)\\n    L2 = (x-x2)*(x-x2)+(y-y2)*(y-y2)\\n    if L1<L2:\\n      rlines[l1][0]=x\\n      rlines[l1][1]=y\\n    else:\\n      rlines[l1][2]=x\\n      rlines[l1][3]=y\\n  elif flag2==1:\\n\\n    L1 = (x-x3)*(x-x3)+(y-y3)*(y-y3)\\n    L2 = (x-x4)*(x-x4)+(y-y4)*(y-y4)\\n    if L1<L2:\\n      rlines[l2][0]=x\\n      rlines[l2][1]=y\\n    else:\\n      rlines[l2][2]=x\\n      rlines[l2][3]=y\\n  else:\\n    L1 = (x-x1)*(x-x1)+(y-y1)*(y-y1)\\n    L2 = (x-x2)*(x-x2)+(y-y2)*(y-y2)\\n    if L1<L2:\\n      rlines[l1][0]=x\\n      rlines[l1][1]=y\\n    else:\\n      rlines[l1][2]=x\\n      rlines[l1][3]=y\\n    L1 = (x-x3)*(x-x3)+(y-y3)*(y-y3)\\n    L2 = (x-x4)*(x-x4)+(y-y4)*(y-y4)\\n    if L1<L2:\\n      rlines[l2][0]=x\\n      rlines[l2][1]=y\\n    else:\\n      rlines[l2][2]=x\\n      rlines[l2][3]=y'"
            ],
            "application/vnd.google.colaboratory.intrinsic+json": {
              "type": "string"
            }
          },
          "metadata": {},
          "execution_count": 31
        }
      ],
      "source": [
        "'''pointsA = np.arange(0).reshape((0, 4))\n",
        "pointsB = np.arange(0).reshape((0, 4))\n",
        "pointsC = np.arange(0).reshape((0, 4))\n",
        "\n",
        "for i in range(len(points)):\n",
        "  l1, l2, x, y = map(int,points[i][:4])\n",
        "  x1, y1, x2, y2 = map(float,rlines[l1][:4])\n",
        "  x3, y3, x4, y4 = map(float,rlines[l2][:4])\n",
        "  dx1 = x2-x1\n",
        "  dy1 = y2-y1\n",
        "\n",
        "  L1 = dy1 * dy1 + dx1 * dx1;\n",
        "  if L1<minL:\n",
        "    continue\n",
        "  afdx1 = int(dx1 * extend / math.sqrt(L1))\n",
        "  afdy1 = int(dy1 * extend / math.sqrt(L1))\n",
        "  \n",
        "  x1 -= afdx1\n",
        "  y1 -= afdy1\n",
        "  x2 += afdx1\n",
        "  y2 += afdy1\n",
        "\n",
        "  dx2 = x4-x3\n",
        "  dy2 = y4-y3\n",
        "\n",
        "  L2 = dy2 * dy2 + dx2 * dx2;\n",
        "  if L2<minL:\n",
        "    continue\n",
        "  afdx2 = int(dx2 * shorten / math.sqrt(L2))\n",
        "  afdy2 = int(dy2 * shorten / math.sqrt(L2))\n",
        "\n",
        "  x3 += afdx2\n",
        "  y3 += afdy2\n",
        "  x4 -= afdx2\n",
        "  y4 -= afdy2\n",
        "\n",
        "  tc = (x1 - x2) * (y3 - y1) + (y1 - y2) * (x1 - x3)\n",
        "  td = (x1 - x2) * (y4 - y1) + (y1 - y2) * (x1 - x4)\n",
        "  ta = (x3 - x4) * (y1 - y3) + (y3 - y4) * (x3 - x1)\n",
        "  tb = (x3 - x4) * (y2 - y3) + (y3 - y4) * (x3 - x2)\n",
        "  flag1=0\n",
        "  if tc*td < 0 and ta*tb < 0:\n",
        "    flag1=1;\n",
        "\n",
        "\n",
        "  x1, y1, x2, y2 = map(float,rlines[l1][:4])\n",
        "  x3, y3, x4, y4 = map(float,rlines[l2][:4])\n",
        "  dx1 = x2-x1\n",
        "  dy1 = y2-y1\n",
        "\n",
        "  L1 = dy1 * dy1 + dx1 * dx1;\n",
        "\n",
        "  afdx1 = int(dx1 * shorten / math.sqrt(L1))\n",
        "  afdy1 = int(dy1 * shorten / math.sqrt(L1))\n",
        "  \n",
        "  x1 += afdx1\n",
        "  y1 += afdy1\n",
        "  x2 -= afdx1\n",
        "  y2 -= afdy1\n",
        "\n",
        "  dx2 = x4-x3\n",
        "  dy2 = y4-y3\n",
        "\n",
        "  L2 = dy2 * dy2 + dx2 * dx2;\n",
        "\n",
        "  afdx2 = int(dx2 * extend / math.sqrt(L2))\n",
        "  afdy2 = int(dy2 * extend / math.sqrt(L2))\n",
        "\n",
        "  x3 -= afdx2\n",
        "  y3 -= afdy2\n",
        "  x4 += afdx2\n",
        "  y4 += afdy2\n",
        "\n",
        "  tc = (x1 - x2) * (y3 - y1) + (y1 - y2) * (x1 - x3)\n",
        "  td = (x1 - x2) * (y4 - y1) + (y1 - y2) * (x1 - x4)\n",
        "  ta = (x3 - x4) * (y1 - y3) + (y3 - y4) * (x3 - x1)\n",
        "  tb = (x3 - x4) * (y2 - y3) + (y3 - y4) * (x3 - x2)\n",
        "\n",
        "  flag2=0\n",
        "  if tc*td < 0 and ta*tb < 0:\n",
        "    flag2=1;\n",
        "  \n",
        "  #print(flag1,flag2)\n",
        "  if flag1==1 and flag2==1:\n",
        "    continue\n",
        "  elif flag1==1:\n",
        "    L1 = (x-x1)*(x-x1)+(y-y1)*(y-y1)\n",
        "    L2 = (x-x2)*(x-x2)+(y-y2)*(y-y2)\n",
        "    if L1<L2:\n",
        "      rlines[l1][0]=x\n",
        "      rlines[l1][1]=y\n",
        "    else:\n",
        "      rlines[l1][2]=x\n",
        "      rlines[l1][3]=y\n",
        "  elif flag2==1:\n",
        "\n",
        "    L1 = (x-x3)*(x-x3)+(y-y3)*(y-y3)\n",
        "    L2 = (x-x4)*(x-x4)+(y-y4)*(y-y4)\n",
        "    if L1<L2:\n",
        "      rlines[l2][0]=x\n",
        "      rlines[l2][1]=y\n",
        "    else:\n",
        "      rlines[l2][2]=x\n",
        "      rlines[l2][3]=y\n",
        "  else:\n",
        "    L1 = (x-x1)*(x-x1)+(y-y1)*(y-y1)\n",
        "    L2 = (x-x2)*(x-x2)+(y-y2)*(y-y2)\n",
        "    if L1<L2:\n",
        "      rlines[l1][0]=x\n",
        "      rlines[l1][1]=y\n",
        "    else:\n",
        "      rlines[l1][2]=x\n",
        "      rlines[l1][3]=y\n",
        "    L1 = (x-x3)*(x-x3)+(y-y3)*(y-y3)\n",
        "    L2 = (x-x4)*(x-x4)+(y-y4)*(y-y4)\n",
        "    if L1<L2:\n",
        "      rlines[l2][0]=x\n",
        "      rlines[l2][1]=y\n",
        "    else:\n",
        "      rlines[l2][2]=x\n",
        "      rlines[l2][3]=y'''\n",
        "\n"
      ]
    },
    {
      "cell_type": "code",
      "execution_count": null,
      "metadata": {
        "colab": {
          "base_uri": "https://localhost:8080/"
        },
        "id": "BUzyNuIPsBtl",
        "outputId": "672a5ee8-b6c6-4477-9dd3-e45fd53bf9c6"
      },
      "outputs": [
        {
          "output_type": "execute_result",
          "data": {
            "text/plain": [
              "\"lines2=rlines.copy()\\nimg6 = np.full((img.shape[0],img.shape[1], 3), 255, dtype=np.uint8)\\nfor line in lines2:\\n    y1, x1, y2, x2 = map(int,line[:4])\\n    lines2_img = cv2.line(img6, (x1,y1), (x2,y2), (0,0,0), 1)\\ncv2.imwrite('lines6_img.png', lines2_img)\""
            ],
            "application/vnd.google.colaboratory.intrinsic+json": {
              "type": "string"
            }
          },
          "metadata": {},
          "execution_count": 32
        }
      ],
      "source": [
        "'''lines2=rlines.copy()\n",
        "img6 = np.full((img.shape[0],img.shape[1], 3), 255, dtype=np.uint8)\n",
        "for line in lines2:\n",
        "    y1, x1, y2, x2 = map(int,line[:4])\n",
        "    lines2_img = cv2.line(img6, (x1,y1), (x2,y2), (0,0,0), 1)\n",
        "cv2.imwrite('lines6_img.png', lines2_img)'''"
      ]
    },
    {
      "cell_type": "markdown",
      "metadata": {
        "id": "Yu-Bw3u8jBOO"
      },
      "source": [
        "# 素子の位置決定"
      ]
    },
    {
      "cell_type": "code",
      "execution_count": null,
      "metadata": {
        "colab": {
          "base_uri": "https://localhost:8080/"
        },
        "id": "nqMJ7pB84jCV",
        "outputId": "0753c229-da52-4c8c-a677-fc2fd0cc92be"
      },
      "outputs": [
        {
          "output_type": "stream",
          "name": "stdout",
          "text": [
            "-45.0 0.0\n",
            "-68.0 0.0\n",
            "-40.0 0.0\n",
            "0.0 30.0\n",
            "0.0 26.0\n",
            "-48.0 0.0\n",
            "-51.0 0.0\n",
            "0.0 74.0\n",
            "0.0 74.0\n",
            "0.0 28.0\n",
            "0.0 19.0\n",
            "-115.0 0.0\n",
            "-103.0 0.0\n",
            "-45.0 0.0\n",
            "-68.0 0.0\n",
            "-40.0 0.0\n",
            "0.0 30.0\n",
            "0.0 26.0\n",
            "-48.0 0.0\n",
            "-51.0 0.0\n",
            "0.0 74.0\n",
            "0.0 74.0\n",
            "0.0 28.0\n",
            "0.0 19.0\n",
            "-115.0 0.0\n",
            "-103.0 0.0\n",
            "-45.0 0.0\n",
            "-68.0 0.0\n",
            "-40.0 0.0\n",
            "0.0 30.0\n",
            "0.0 26.0\n",
            "-48.0 0.0\n",
            "-51.0 0.0\n",
            "0.0 74.0\n",
            "0.0 74.0\n",
            "0.0 28.0\n",
            "0.0 19.0\n",
            "-115.0 0.0\n",
            "-103.0 0.0\n",
            "-45.0 0.0\n",
            "-68.0 0.0\n",
            "-40.0 0.0\n",
            "0.0 30.0\n",
            "0.0 26.0\n",
            "-48.0 0.0\n",
            "-51.0 0.0\n",
            "0.0 74.0\n",
            "0.0 74.0\n",
            "0.0 28.0\n",
            "0.0 19.0\n",
            "-115.0 0.0\n",
            "-103.0 0.0\n",
            "-45.0 0.0\n",
            "-68.0 0.0\n",
            "-40.0 0.0\n",
            "0.0 30.0\n",
            "0.0 26.0\n",
            "-48.0 0.0\n",
            "-51.0 0.0\n",
            "0.0 74.0\n",
            "0.0 74.0\n",
            "0.0 28.0\n",
            "0.0 19.0\n",
            "-115.0 0.0\n",
            "-103.0 0.0\n",
            "-45.0 0.0\n",
            "-68.0 0.0\n",
            "-40.0 0.0\n",
            "0.0 30.0\n",
            "0.0 26.0\n",
            "-48.0 0.0\n",
            "-51.0 0.0\n",
            "0.0 74.0\n",
            "0.0 74.0\n",
            "0.0 28.0\n",
            "0.0 19.0\n",
            "-115.0 0.0\n",
            "-103.0 0.0\n",
            "-45.0 0.0\n",
            "-68.0 0.0\n",
            "-40.0 0.0\n",
            "0.0 30.0\n",
            "0.0 26.0\n",
            "-48.0 0.0\n",
            "-51.0 0.0\n",
            "0.0 74.0\n",
            "0.0 74.0\n",
            "0.0 28.0\n",
            "0.0 19.0\n",
            "-115.0 0.0\n",
            "-103.0 0.0\n",
            "-45.0 0.0\n",
            "-68.0 0.0\n",
            "-40.0 0.0\n",
            "0.0 30.0\n",
            "0.0 26.0\n",
            "-48.0 0.0\n",
            "-51.0 0.0\n",
            "0.0 74.0\n",
            "0.0 74.0\n",
            "0.0 28.0\n",
            "0.0 19.0\n",
            "-115.0 0.0\n",
            "-103.0 0.0\n",
            "-45.0 0.0\n",
            "-68.0 0.0\n",
            "-40.0 0.0\n",
            "0.0 30.0\n",
            "0.0 26.0\n",
            "-48.0 0.0\n",
            "-51.0 0.0\n",
            "0.0 74.0\n",
            "0.0 74.0\n",
            "0.0 28.0\n",
            "0.0 19.0\n",
            "-115.0 0.0\n",
            "-103.0 0.0\n",
            "-45.0 0.0\n",
            "-68.0 0.0\n",
            "-40.0 0.0\n",
            "0.0 30.0\n",
            "0.0 26.0\n",
            "-48.0 0.0\n",
            "-51.0 0.0\n",
            "0.0 74.0\n",
            "0.0 74.0\n",
            "0.0 28.0\n",
            "0.0 19.0\n",
            "-115.0 0.0\n",
            "-103.0 0.0\n",
            "-45.0 0.0\n",
            "-68.0 0.0\n",
            "-40.0 0.0\n",
            "0.0 30.0\n",
            "0.0 26.0\n",
            "-48.0 0.0\n",
            "-51.0 0.0\n",
            "0.0 74.0\n",
            "0.0 74.0\n",
            "0.0 28.0\n",
            "0.0 19.0\n",
            "-115.0 0.0\n",
            "-103.0 0.0\n",
            "-45.0 0.0\n",
            "-68.0 0.0\n",
            "-40.0 0.0\n",
            "0.0 30.0\n",
            "0.0 26.0\n",
            "-48.0 0.0\n",
            "-51.0 0.0\n",
            "0.0 74.0\n",
            "0.0 74.0\n",
            "0.0 28.0\n",
            "0.0 19.0\n",
            "-115.0 0.0\n",
            "-103.0 0.0\n",
            "-45.0 0.0\n",
            "-68.0 0.0\n",
            "-40.0 0.0\n",
            "0.0 30.0\n",
            "0.0 26.0\n",
            "-48.0 0.0\n",
            "-51.0 0.0\n",
            "0.0 74.0\n",
            "0.0 74.0\n",
            "0.0 28.0\n",
            "0.0 19.0\n",
            "-115.0 0.0\n",
            "-103.0 0.0\n",
            "-45.0 0.0\n",
            "-68.0 0.0\n",
            "-40.0 0.0\n",
            "0.0 30.0\n",
            "0.0 26.0\n",
            "-48.0 0.0\n",
            "-51.0 0.0\n",
            "0.0 74.0\n",
            "0.0 74.0\n",
            "0.0 28.0\n",
            "0.0 19.0\n",
            "-115.0 0.0\n",
            "-103.0 0.0\n",
            "-45.0 0.0\n",
            "-68.0 0.0\n",
            "-40.0 0.0\n",
            "0.0 30.0\n",
            "0.0 26.0\n",
            "-48.0 0.0\n",
            "-51.0 0.0\n",
            "0.0 74.0\n",
            "0.0 74.0\n",
            "0.0 28.0\n",
            "0.0 19.0\n",
            "-115.0 0.0\n",
            "-103.0 0.0\n",
            "-45.0 0.0\n",
            "-68.0 0.0\n",
            "-40.0 0.0\n",
            "0.0 30.0\n",
            "0.0 26.0\n",
            "-48.0 0.0\n",
            "-51.0 0.0\n",
            "0.0 74.0\n",
            "0.0 74.0\n",
            "0.0 28.0\n",
            "0.0 19.0\n",
            "-115.0 0.0\n",
            "-103.0 0.0\n",
            "-45.0 0.0\n",
            "-68.0 0.0\n",
            "-40.0 0.0\n",
            "0.0 30.0\n",
            "0.0 26.0\n",
            "-48.0 0.0\n",
            "-51.0 0.0\n",
            "0.0 74.0\n",
            "0.0 74.0\n",
            "0.0 28.0\n",
            "0.0 19.0\n",
            "-115.0 0.0\n",
            "-103.0 0.0\n",
            "-45.0 0.0\n",
            "-68.0 0.0\n",
            "-40.0 0.0\n",
            "0.0 30.0\n",
            "0.0 26.0\n",
            "-48.0 0.0\n",
            "-51.0 0.0\n",
            "0.0 74.0\n",
            "0.0 74.0\n",
            "0.0 28.0\n",
            "0.0 19.0\n",
            "-115.0 0.0\n",
            "-103.0 0.0\n",
            "-45.0 0.0\n",
            "-68.0 0.0\n",
            "-40.0 0.0\n",
            "0.0 30.0\n",
            "0.0 26.0\n",
            "-48.0 0.0\n",
            "-51.0 0.0\n",
            "0.0 74.0\n",
            "0.0 74.0\n",
            "0.0 28.0\n",
            "0.0 19.0\n",
            "-115.0 0.0\n",
            "-103.0 0.0\n",
            "-45.0 0.0\n",
            "-68.0 0.0\n",
            "-40.0 0.0\n",
            "0.0 30.0\n",
            "0.0 26.0\n",
            "-48.0 0.0\n",
            "-51.0 0.0\n",
            "0.0 74.0\n",
            "0.0 74.0\n",
            "0.0 28.0\n",
            "0.0 19.0\n",
            "-115.0 0.0\n",
            "-103.0 0.0\n",
            "-45.0 0.0\n",
            "-68.0 0.0\n",
            "-40.0 0.0\n",
            "0.0 30.0\n",
            "0.0 26.0\n",
            "-48.0 0.0\n",
            "-51.0 0.0\n",
            "0.0 74.0\n",
            "0.0 74.0\n",
            "0.0 28.0\n",
            "0.0 19.0\n",
            "-115.0 0.0\n",
            "-103.0 0.0\n",
            "-45.0 0.0\n",
            "-68.0 0.0\n",
            "-40.0 0.0\n",
            "0.0 30.0\n",
            "0.0 26.0\n",
            "-48.0 0.0\n",
            "-51.0 0.0\n",
            "0.0 74.0\n",
            "0.0 74.0\n",
            "0.0 28.0\n",
            "0.0 19.0\n",
            "-115.0 0.0\n",
            "-103.0 0.0\n",
            "-45.0 0.0\n",
            "-68.0 0.0\n",
            "-40.0 0.0\n",
            "0.0 30.0\n",
            "0.0 26.0\n",
            "-48.0 0.0\n",
            "-51.0 0.0\n",
            "0.0 74.0\n",
            "0.0 74.0\n",
            "0.0 28.0\n",
            "0.0 19.0\n",
            "-115.0 0.0\n",
            "-103.0 0.0\n",
            "-45.0 0.0\n",
            "-68.0 0.0\n",
            "-40.0 0.0\n",
            "0.0 30.0\n",
            "0.0 26.0\n",
            "-48.0 0.0\n",
            "-51.0 0.0\n",
            "0.0 74.0\n",
            "0.0 74.0\n",
            "0.0 28.0\n",
            "0.0 19.0\n",
            "-115.0 0.0\n",
            "-103.0 0.0\n",
            "12\n",
            "[[ 99  59 199  59   4   5]\n",
            " [239  59 287  59  10  11]\n",
            " [ 31  85  31 163  16  17]\n",
            " [332  89 332 154  22  23]\n",
            " [145 108 215 108  28  29]\n",
            " [134 182 217 182  34  35]]\n"
          ]
        }
      ],
      "source": [
        "lines2=rlines.copy()\n",
        "points = np.arange(0).reshape((0, 4))\n",
        "extend = 3.0\n",
        "ppos=np.arange(len(P2)*6).reshape((len(P2), 6))\n",
        "ctype=[1,0,0,2,-1,-1,-1,3,1,-1,-1,-1,-1,-1,-1,4,3,4,0,1,0,1,0,1,0,1,0,0,1,1]\n",
        "UD=[]\n",
        "for j in range(len(P2)):\n",
        "  u, l, d, r = map(int,P2S[j][:4])\n",
        "  \n",
        "  for y3, x3, y4, x4, now in ([u, l, u, r,0], [u, l, d, l,1], [d, l, d, r,2], [u, r, d, r,3]):\n",
        "    for i in range(len(rlines)):\n",
        "      y1, x1, y2, x2 = map(float,rlines[i][:4])\n",
        " \n",
        "      dx1 = x2-x1\n",
        "      dy1 = y2-y1\n",
        "\n",
        "      L1 = dy1 * dy1 + dx1 * dx1;\n",
        "      print(dx1,dy1)\n",
        "      if L1==0:\n",
        "        continue\n",
        "      afdx1 = int(dx1 * extend / math.sqrt(L1))\n",
        "      afdy1 = int(dy1 * extend / math.sqrt(L1))\n",
        "\n",
        "      x1 -= afdx1\n",
        "      y1 -= afdy1\n",
        "      x2 += afdx1\n",
        "      y2 += afdy1\n",
        "\n",
        "\n",
        "      dx2 = x4-x3\n",
        "      dy2 = y4-y3\n",
        "\n",
        "      L2 = dy2 * dy2 + dx2 * dx2;\n",
        "\n",
        "      afdx2 = int(dx2 * extend / math.sqrt(L2))\n",
        "      afdy2 = int(dy2 * extend / math.sqrt(L2))\n",
        "\n",
        "      '''x3 -= afdx2\n",
        "      y3 -= afdy2\n",
        "      x4 += afdx2\n",
        "      y4 += afdy2'''\n",
        "\n",
        "      tc = (x1 - x2) * (y3 - y1) + (y1 - y2) * (x1 - x3)\n",
        "      td = (x1 - x2) * (y4 - y1) + (y1 - y2) * (x1 - x4)\n",
        "      ta = (x3 - x4) * (y1 - y3) + (y3 - y4) * (x3 - x1)\n",
        "      tb = (x3 - x4) * (y2 - y3) + (y3 - y4) * (x3 - x2)\n",
        "      if tc*td < 0 and ta*tb < 0:\n",
        "        tmp = dx1*dy2-dx2*dy1\n",
        "        c1=-dx1*y1+dy1*x1\n",
        "        c2=-dx2*y3+dy2*x3\n",
        "        if tmp!=0:\n",
        "          \n",
        "          x = -int(float(-dx1 * c2 +dx2 * c1) / float(tmp))\n",
        "          y = -int(float(dy2 * c1 - dy1 * c2) / float(tmp))\n",
        "          tmp2 = np.arange(4).reshape(4)\n",
        "          tmp2[0],tmp2[1],tmp2[2],tmp2[3]=i,j,x,y\n",
        "          points=np.insert(points,0,tmp2,axis=0)\n",
        "          point_img = cv2.circle(img, (x,y),3, (255,0,0),-1)\n",
        "          if ctype[P2[j]]==0:\n",
        "            if now==1:\n",
        "              ppos[j][0]=x;\n",
        "              ppos[j][1]=y;\n",
        "            elif now==3:\n",
        "              ppos[j][2]=x;\n",
        "              ppos[j][3]=y;\n",
        "\n",
        "          elif ctype[P2[j]]==1:\n",
        "            if now==0:\n",
        "              ppos[j][0]=x;\n",
        "              ppos[j][1]=y;\n",
        "            elif now==2:\n",
        "              ppos[j][2]=x;\n",
        "              ppos[j][3]=y;\n",
        "\n",
        "\n",
        "          elif ctype[P2[j]]==2:\n",
        "            if now==0:\n",
        "              ppos[j][0]=x;\n",
        "              ppos[j][1]=y;\n",
        "\n",
        "          elif ctype[P2[j]]==3:\n",
        "            if now==0:\n",
        "              ppos[j][0]=x;\n",
        "              ppos[j][1]=y;\n",
        "            elif now==1:\n",
        "              ppos[j][2]=x;\n",
        "              ppos[j][3]=y;\n",
        "            elif now==2:\n",
        "              ppos[j][4]=x;\n",
        "              ppos[j][5]=y;\n",
        "\n",
        "          elif ctype[P2[j]]==4:\n",
        "            if now==3:\n",
        "              ppos[j][0]=x;\n",
        "              ppos[j][1]=y;\n",
        "            elif now==1:\n",
        "              ppos[j][2]=x;\n",
        "              ppos[j][3]=y;\n",
        "            elif now==2:\n",
        "              ppos[j][4]=x;\n",
        "              ppos[j][5]=y;\n",
        "\n",
        "            \n",
        "          \n",
        "\n",
        "cv2.imwrite('point_img.png', point_img)\n",
        "print(len(points))\n",
        "\n",
        "\n",
        "print(ppos)\n"
      ]
    },
    {
      "cell_type": "markdown",
      "metadata": {
        "id": "_RLvoiaqjG1M"
      },
      "source": [
        "# ノイズ除去"
      ]
    },
    {
      "cell_type": "code",
      "execution_count": null,
      "metadata": {
        "id": "Ke_eR7IQSt8s"
      },
      "outputs": [],
      "source": [
        "rlines2=[]\n",
        "noise = np.full(len(rlines),1).reshape(len(rlines))\n",
        "for j in range(len(plist)):\n",
        "  u, l, d, r = map(int,plist[j][:4])\n",
        "  \n",
        "  for y3, x3, y4, x4, now in ([u, l, u, r,0], [u, l, d, l,1], [d, l, d, r,2], [u, r, d, r,3]):\n",
        "    for i in range(len(rlines)):\n",
        "      y1, x1, y2, x2 = map(int,rlines[i][:4])\n",
        " \n",
        "      dx1 = x2-x1\n",
        "      dy1 = y2-y1\n",
        "\n",
        "      L1 = dy1 * dy1 + dx1 * dx1;\n",
        "      if L1==0:\n",
        "        continue\n",
        "      afdx1 = int(dx1 * extend / math.sqrt(L1))\n",
        "      afdy1 = int(dy1 * extend / math.sqrt(L1))\n",
        "\n",
        "      x1 -= afdx1\n",
        "      y1 -= afdy1\n",
        "      x2 += afdx1\n",
        "      y2 += afdy1\n",
        "\n",
        "\n",
        "      dx2 = x4-x3\n",
        "      dy2 = y4-y3\n",
        "\n",
        "      L2 = dy2 * dy2 + dx2 * dx2;\n",
        "\n",
        "      afdx2 = int(dx2 * extend / math.sqrt(L2))\n",
        "      afdy2 = int(dy2 * extend / math.sqrt(L2))\n",
        "\n",
        "      '''x3 -= afdx2\n",
        "      y3 -= afdy2\n",
        "      x4 += afdx2\n",
        "      y4 += afdy2'''\n",
        "\n",
        "      tc = (x1 - x2) * (y3 - y1) + (y1 - y2) * (x1 - x3)\n",
        "      td = (x1 - x2) * (y4 - y1) + (y1 - y2) * (x1 - x4)\n",
        "      ta = (x3 - x4) * (y1 - y3) + (y3 - y4) * (x3 - x1)\n",
        "      tb = (x3 - x4) * (y2 - y3) + (y3 - y4) * (x3 - x2)\n",
        "      if tc*td < 0 and ta*tb < 0:\n",
        "          if ctype[ptype[j]]==0:\n",
        "            if now==1:\n",
        "              noise[i]=0\n",
        "            elif now==3:\n",
        "              noise[i]=0\n",
        "\n",
        "          elif ctype[ptype[j]]==1:\n",
        "            if now==0:\n",
        "              noise[i]=0\n",
        "            elif now==2:\n",
        "              noise[i]=0\n",
        "\n",
        "\n",
        "          elif ctype[ptype[j]]==2:\n",
        "            if now==0:\n",
        "              noise[i]=0\n",
        "\n",
        "          elif ctype[ptype[j]]==3:\n",
        "            if now==0:\n",
        "              noise[i]=0\n",
        "            elif now==1:\n",
        "              noise[i]=0\n",
        "            elif now==2:\n",
        "              noise[i]=0\n",
        "          elif ctype[ptype[j]]==4:\n",
        "            if now==1:\n",
        "              noise[i]=0\n",
        "            elif now==2:\n",
        "              noise[i]=0\n",
        "            elif now==3:\n",
        "              noise[i]=0\n",
        "          elif ctype[ptype[j]]==5:\n",
        "            if now==0:\n",
        "              noise[i]=0\n",
        "            elif now==2:\n",
        "              noise[i]=0\n",
        "            elif now==3:\n",
        "              noise[i]=0\n",
        "          elif ctype[ptype[j]]==6:\n",
        "            if now==1:\n",
        "              noise[i]=0\n",
        "            elif now==2:\n",
        "              noise[i]=0\n"
      ]
    },
    {
      "cell_type": "markdown",
      "metadata": {
        "id": "U6q6UfU1jLhf"
      },
      "source": [
        "# 出力"
      ]
    },
    {
      "cell_type": "code",
      "execution_count": null,
      "metadata": {
        "colab": {
          "base_uri": "https://localhost:8080/"
        },
        "id": "qOulMqON60O_",
        "outputId": "96a286da-d5f2-41b1-bee5-cc717d968c78"
      },
      "outputs": [
        {
          "output_type": "stream",
          "name": "stdout",
          "text": [
            "\\draw (6.640000,18.820000)\n",
            "to[short] (5.740000,18.820000);\n",
            "\\draw (1.980000,18.820000)\n",
            "to[short] (0.620000,18.820000);\n",
            "\\draw (4.780000,18.820000)\n",
            "to[short] (3.980000,18.820000);\n",
            "\\draw (6.640000,18.820000)\n",
            "to[short] (6.640000,18.220000);\n",
            "\\draw (0.620000,18.820000)\n",
            "to[short] (0.620000,18.300000);\n",
            "\\draw (5.260000,17.840000)\n",
            "to[short] (4.300000,17.840000);\n",
            "\\draw (2.900000,17.840000)\n",
            "to[short] (1.880000,17.840000);\n",
            "\\draw (5.260000,17.840000)\n",
            "to[short] (5.260000,16.360000);\n",
            "\\draw (1.880000,17.840000)\n",
            "to[short] (1.880000,16.360000);\n",
            "\\draw (6.640000,16.920000)\n",
            "to[short] (6.640000,16.360000);\n",
            "\\draw (0.620000,16.740000)\n",
            "to[short] (0.620000,16.360000);\n",
            "\\draw (6.640000,16.360000)\n",
            "to[short] (4.340000,16.360000);\n",
            "\\draw (2.680000,16.360000)\n",
            "to[short] (0.620000,16.360000);\n",
            "\\draw (1.980000,18.820000)\n",
            "to[L=$L$] (3.980000,18.820000);\n",
            "\\draw (4.780000,18.820000)\n",
            "to[C=$C$] (5.740000,18.820000);\n",
            "\\draw (0.620000,18.300000)\n",
            "to[vco] (0.620000,16.740000);\n",
            "\\draw (6.640000,18.220000)\n",
            "to[rmeter, t=A] (6.640000,16.920000);\n",
            "\\draw (2.900000,17.840000)\n",
            "to[rmeter, t=V] (4.300000,17.840000);\n",
            "\\draw (2.680000,16.360000)\n",
            "to[R=$R$] (4.340000,16.360000);\n"
          ]
        }
      ],
      "source": [
        "DIVSIZE=50.0\n",
        "YSTR = 20.0\n",
        "for i in range(len(lines2)):\n",
        "  print( \"\\draw (%f,%f)\"%(float(lines2[i][1])/DIVSIZE,YSTR-float(lines2[i][0])/DIVSIZE))\n",
        "  print( \"to[short] (%f,%f);\"%(float(lines2[i][3])/DIVSIZE,YSTR-float(lines2[i][2])/DIVSIZE))\n",
        "for i in range(len(P2)):\n",
        "  if P2[i]==0 or P2[i]==1:\n",
        "    print( \"\\draw (%f,%f)\"%(float(ppos[i][0])/DIVSIZE,YSTR-float(ppos[i][1])/DIVSIZE))\n",
        "    print( \"to[R=$R$] (%f,%f);\"%(float(ppos[i][2])/DIVSIZE,YSTR-float(ppos[i][3])/DIVSIZE))\n",
        "  elif P2[i]==2 or P2[i]==8:\n",
        "    print( \"\\draw (%f,%f)\"%(float(ppos[i][0])/DIVSIZE,YSTR-float(ppos[i][1])/DIVSIZE))\n",
        "    print( \"to[C=$C$] (%f,%f);\"%(float(ppos[i][2])/DIVSIZE,YSTR-float(ppos[i][3])/DIVSIZE))\n",
        "  elif P2[i]==3:\n",
        "    print( \"\\draw (%f,%f) node[ground]{};\"%(float(ppos[i][0])/DIVSIZE,YSTR-float(ppos[i][1])/DIVSIZE))\n",
        "    #print( \"to (%f,%f) node[ground]{};\"  %(float(ppos[i][0])/DIVSIZE,YSTR-0.1-float(ppos[i][1])/DIVSIZE))\n",
        "  elif P2[i]==7:\n",
        "    sz=1\n",
        "    print( \"\\draw (%f,%f)\"%(float(ppos[i][2])/DIVSIZE,YSTR-float(ppos[i][3])/DIVSIZE))\n",
        "    print( \"to[short] (%f,%f);\"%(float(ppos[i][0])/DIVSIZE-sz*0.588/0.7,YSTR-float(ppos[i][3])/DIVSIZE))\n",
        "    print( \"\\draw (%f,%f) node[npn, xscale=%f, anchor=B] (npn%d) {}\"%(float(ppos[i][0])/DIVSIZE-sz*0.588/0.7,YSTR-float(ppos[i][3])/DIVSIZE,sz,i))\n",
        "    print(\"(npn%d.C) -- (%f,%f) (npn%d.E) -- (%f,%f);\" %(i,float(ppos[i][0])/DIVSIZE,YSTR-float(ppos[i][1])/DIVSIZE,i,float(ppos[i][4])/DIVSIZE,YSTR-float(ppos[i][5])/DIVSIZE))\n",
        "  elif P2[i]==15:\n",
        "    sz=1\n",
        "    print( \"\\draw (%f,%f)\"%(float(ppos[i][2])/DIVSIZE,YSTR-float(ppos[i][3])/DIVSIZE))\n",
        "    print( \"to[short] (%f,%f);\"%(float(ppos[i][0])/DIVSIZE-sz*0.588/0.7,YSTR-float(ppos[i][3])/DIVSIZE))\n",
        "    print( \"\\draw (%f,%f) node[npn, xscale=-%f, anchor=B] (npn%d) {}\"%(float(ppos[i][0])/DIVSIZE-sz*0.588/0.7,YSTR-float(ppos[i][3])/DIVSIZE,sz,i))\n",
        "    print(\"(npn%d.C) -- (%f,%f) (npn%d.E) -- (%f,%f);\" %(i,float(ppos[i][0])/DIVSIZE,YSTR-float(ppos[i][1])/DIVSIZE,i,float(ppos[i][4])/DIVSIZE,YSTR-float(ppos[i][5])/DIVSIZE))\n",
        "  elif P2[i]==18 or P2[i]==19:\n",
        "    print( \"\\draw (%f,%f)\"%(float(ppos[i][0])/DIVSIZE,YSTR-float(ppos[i][1])/DIVSIZE))\n",
        "    print( \"to[L=$L$] (%f,%f);\"%(float(ppos[i][2])/DIVSIZE,YSTR-float(ppos[i][3])/DIVSIZE))\n",
        "  elif P2[i]==20 or P2[i]==21:\n",
        "    print( \"\\draw (%f,%f)\"%(float(ppos[i][0])/DIVSIZE,YSTR-float(ppos[i][1])/DIVSIZE))\n",
        "    print( \"to[vco] (%f,%f);\"%(float(ppos[i][2])/DIVSIZE,YSTR-float(ppos[i][3])/DIVSIZE))\n",
        "  elif P2[i]==22 or P2[i]==23:\n",
        "    print( \"\\draw (%f,%f)\"%(float(ppos[i][0])/DIVSIZE,YSTR-float(ppos[i][1])/DIVSIZE))\n",
        "    print( \"to[rmeter, t=A] (%f,%f);\"%(float(ppos[i][2])/DIVSIZE,YSTR-float(ppos[i][3])/DIVSIZE))\n",
        "  elif P2[i]==24 or P2[i]==25:\n",
        "    print( \"\\draw (%f,%f)\"%(float(ppos[i][0])/DIVSIZE,YSTR-float(ppos[i][1])/DIVSIZE))\n",
        "    print( \"to[rmeter, t=V] (%f,%f);\"%(float(ppos[i][2])/DIVSIZE,YSTR-float(ppos[i][3])/DIVSIZE))\n",
        "  elif P2[i]==26 or P2[i]==27 or P2[i]==28 or P2[i]==29:\n",
        "    print( \"\\draw (%f,%f)\"%(float(ppos[i][0])/DIVSIZE,YSTR-float(ppos[i][1])/DIVSIZE))\n",
        "    print( \"to[battery1,l=E] (%f,%f);\"%(float(ppos[i][2])/DIVSIZE,YSTR-float(ppos[i][3])/DIVSIZE))\n",
        "    \n"
      ]
    }
  ],
  "metadata": {
    "accelerator": "GPU",
    "colab": {
      "collapsed_sections": [
        "4ZIHQ_mogBdD",
        "jHRcutqlghxC",
        "TXxkU0UWgmkp",
        "3ZWMDdprg8OQ",
        "rKm8tRFwf95q",
        "lKGfKN9Ii3gA",
        "_RLvoiaqjG1M"
      ],
      "name": "to_latex.ipynb",
      "provenance": [],
      "toc_visible": true,
      "authorship_tag": "ABX9TyOI0CWbsnc1dO9wGf9tVaQw",
      "include_colab_link": true
    },
    "kernelspec": {
      "display_name": "Python 3",
      "name": "python3"
    }
  },
  "nbformat": 4,
  "nbformat_minor": 0
}